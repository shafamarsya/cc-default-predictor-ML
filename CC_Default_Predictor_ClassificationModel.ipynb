{
  "nbformat": 4,
  "nbformat_minor": 0,
  "metadata": {
    "colab": {
      "name": "[II4042]Data Science Project.ipynb",
      "provenance": [],
      "collapsed_sections": [],
      "toc_visible": true
    },
    "kernelspec": {
      "name": "python3",
      "display_name": "Python 3"
    }
  },
  "cells": [
    {
      "cell_type": "markdown",
      "metadata": {
        "id": "_EmM4rme8-JX"
      },
      "source": [
        "# Credit Card Clients Dataset\n",
        "II4042 Kecerdasan Buatan untuk Bisnis\n",
        "* 18218007 Shafa Amarsya Madyaratri\n",
        "* 18218040 Muhammad Xavier Rafifsyah Prasetyo\n",
        "* 18218050 Garin Ichsan Nugraha\n",
        "\n",
        "\n",
        "\n",
        "\n"
      ]
    },
    {
      "cell_type": "markdown",
      "metadata": {
        "id": "8vQxBMFoL42U"
      },
      "source": [
        "## **Business Understanding**\n"
      ]
    },
    {
      "cell_type": "markdown",
      "metadata": {
        "id": "GQvyUknV0uM0"
      },
      "source": [
        "### Business Problem \n",
        "> Banyak pelanggan kartu kredit yang dikenai default sehingga merugikan penyedia kartu kredit."
      ]
    },
    {
      "cell_type": "markdown",
      "metadata": {
        "id": "BgHvArOy03RM"
      },
      "source": [
        "### Business Metrics\n",
        "> - Persentase kartu kredit yang default <br> \n",
        "- Rata-rata tagihan kartu kredit yang statusnya default"
      ]
    },
    {
      "cell_type": "markdown",
      "metadata": {
        "id": "lhKuoKHy06T-"
      },
      "source": [
        "\n",
        "\n",
        "### Analytics Problem\n",
        "> Mengidentifikasi default atau tidaknya pelanggan kartu kredit <br> Task Data: Classification\n"
      ]
    },
    {
      "cell_type": "markdown",
      "metadata": {
        "id": "v0R3p7fp09ZE"
      },
      "source": [
        "\n",
        "### Analytics Metrics\n",
        "> Analytic Metric: Precision, Recall, F1 Score <br>\n"
      ]
    },
    {
      "cell_type": "markdown",
      "metadata": {
        "id": "fY1GkB0_1AFt"
      },
      "source": [
        "\n",
        "### Dataset\n",
        "> Judul Dataset:<br>\n",
        "Default of Credit Card Clients Dataset <br><br>\n",
        "Deskripsi: <br>\n",
        "Default Payments of Credit Card Clients in Taiwan from 2005 <br><br>\n",
        "Provider data: UCI Machine Learning <br><br>\n",
        "Informasi Dataset: This dataset contains information on default payments, demographic factors, credit data, history of payment, and bill statements of credit card clients in Taiwan from April 2005 to September 2005. <br><br>\n",
        "Konten (25 variabel): <br>\n",
        "<br>\n",
        "ID: ID of each client <br>\n",
        "LIMIT_BAL: Amount of given credit in NT dollars (includes individual and family/supplementary credit <br>\n",
        "SEX: Gender (1=male, 2=female) <br>\n",
        "EDUCATION: (1=graduate school, 2=university, 3=high school, 4=others, 5=unknown, 6=unknown)<br>\n",
        "MARRIAGE: Marital status (1=married, 2=single, 3=others) <br>\n",
        "AGE: Age in years <br>\n",
        "PAY_0: Repayment status in September, 2005 (-1=pay duly, 1=payment delay for one month, 2=payment delay for two months, … 8=payment delay for eight months, 9=payment delay for nine months and above) <br>\n",
        "PAY_2: Repayment status in August, 2005 (scale same as above) <br>\n",
        "PAY_3: Repayment status in July, 2005 (scale same as above) <br>\n",
        "PAY_4: Repayment status in June, 2005 (scale same as above) <br>\n",
        "PAY_5: Repayment status in May, 2005 (scale same as above) <br>\n",
        "PAY_6: Repayment status in April, 2005 (scale same as above) <br>\n",
        "BILL_AMT1: Amount of bill statement in September, 2005 (NT dollar) <br>\n",
        "BILL_AMT2: Amount of bill statement in August, 2005 (NT dollar) <br>\n",
        "BILL_AMT3: Amount of bill statement in July, 2005 (NT dollar) <br>\n",
        "BILL_AMT4: Amount of bill statement in June, 2005 (NT dollar) <br>\n",
        "BILL_AMT5: Amount of bill statement in May, 2005 (NT dollar) <br>\n",
        "BILL_AMT6: Amount of bill statement in April, 2005 (NT dollar) <br>\n",
        "PAY_AMT1: Amount of previous payment in September, 2005 (NT dollar) <br>\n",
        "PAY_AMT2: Amount of previous payment in August, 2005 (NT dollar) <br>\n",
        "PAY_AMT3: Amount of previous payment in July, 2005 (NT dollar) <br>\n",
        "PAY_AMT4: Amount of previous payment in June, 2005 (NT dollar) <br>\n",
        "PAY_AMT5: Amount of previous payment in May, 2005 (NT dollar) <br>\n",
        "PAY_AMT6: Amount of previous payment in April, 2005 (NT dollar) <br>\n",
        "default.payment.next.month: Default payment (1=yes, 0=no) <br><br>\n",
        "\n",
        "Acknowledgement: <br>\n",
        "Lichman, M. (2013). UCI Machine Learning Repository [http://archive.ics.uci.edu/ml]. Irvine, CA: University of California, School of Information and Computer Science. <br><br>\n",
        "\n",
        "Link to Dataset:<br>\n",
        "https://www.kaggle.com/uciml/default-of-credit-card-clients-dataset"
      ]
    },
    {
      "cell_type": "markdown",
      "metadata": {
        "id": "biHtGADNzery"
      },
      "source": [
        "## **Data Understanding**"
      ]
    },
    {
      "cell_type": "markdown",
      "metadata": {
        "id": "DmwT2kahKTS2"
      },
      "source": [
        "###Import Library dan mengetahui statistik serta informasi umum dari data"
      ]
    },
    {
      "cell_type": "code",
      "metadata": {
        "id": "m8NoT6qC6tU0",
        "cellView": "code",
        "colab": {
          "base_uri": "https://localhost:8080/",
          "height": 215
        },
        "outputId": "72c832b9-3f98-4e35-9289-018a9e8955f8"
      },
      "source": [
        "#Import seluruh library yang dibutuhkan\n",
        "import pandas as pd\n",
        "import numpy as np\n",
        "import matplotlib.pyplot as plt\n",
        "import seaborn as sns\n",
        "import scipy.optimize as opt\n",
        "from sklearn import preprocessing\n",
        "import pylab as pl\n",
        "from sklearn.model_selection import train_test_split # to split the data into two parts\n",
        "from sklearn.linear_model import LogisticRegression # to apply the Logistic regression\n",
        "from sklearn.feature_selection import RFE\n",
        "from sklearn.model_selection import KFold # for cross validation\n",
        "from sklearn.model_selection import GridSearchCV # for tuning parameter\n",
        "from sklearn.model_selection import RandomizedSearchCV  # Randomized search on hyper parameters.\n",
        "from sklearn.preprocessing import StandardScaler # for normalization\n",
        "from sklearn.pipeline import Pipeline \n",
        "from sklearn.ensemble import RandomForestClassifier\n",
        "import xgboost as xgb\n",
        "from xgboost import XGBClassifier\n",
        "from sklearn.model_selection import cross_val_score\n",
        "from sklearn.metrics import classification_report\n",
        "from sklearn.metrics import confusion_matrix\n",
        "from sklearn.neighbors import KNeighborsClassifier #KNN\n",
        "from sklearn.tree import DecisionTreeClassifier\n",
        "from sklearn.ensemble import ExtraTreesClassifier\n",
        "from sklearn.feature_selection import SelectFromModel\n",
        "from sklearn import metrics # for the check the error and accuracy of the model\n",
        "from sklearn.utils import resample\n",
        "import warnings\n",
        "warnings.filterwarnings(\"ignore\", category=FutureWarning)\n",
        "\n",
        "import os\n",
        "\n",
        "#import data\n",
        "df = pd.read_csv('https://cloud-object-storage-38-cos-archive-zly.s3.jp-tok.cloud-object-storage.appdomain.cloud/UCI_Credit_Card.csv')\n",
        "#melihat lima baris teratas dari data\n",
        "df.head()"
      ],
      "execution_count": null,
      "outputs": [
        {
          "output_type": "execute_result",
          "data": {
            "text/html": [
              "<div>\n",
              "<style scoped>\n",
              "    .dataframe tbody tr th:only-of-type {\n",
              "        vertical-align: middle;\n",
              "    }\n",
              "\n",
              "    .dataframe tbody tr th {\n",
              "        vertical-align: top;\n",
              "    }\n",
              "\n",
              "    .dataframe thead th {\n",
              "        text-align: right;\n",
              "    }\n",
              "</style>\n",
              "<table border=\"1\" class=\"dataframe\">\n",
              "  <thead>\n",
              "    <tr style=\"text-align: right;\">\n",
              "      <th></th>\n",
              "      <th>ID</th>\n",
              "      <th>LIMIT_BAL</th>\n",
              "      <th>SEX</th>\n",
              "      <th>EDUCATION</th>\n",
              "      <th>MARRIAGE</th>\n",
              "      <th>AGE</th>\n",
              "      <th>PAY_0</th>\n",
              "      <th>PAY_2</th>\n",
              "      <th>PAY_3</th>\n",
              "      <th>PAY_4</th>\n",
              "      <th>PAY_5</th>\n",
              "      <th>PAY_6</th>\n",
              "      <th>BILL_AMT1</th>\n",
              "      <th>BILL_AMT2</th>\n",
              "      <th>BILL_AMT3</th>\n",
              "      <th>BILL_AMT4</th>\n",
              "      <th>BILL_AMT5</th>\n",
              "      <th>BILL_AMT6</th>\n",
              "      <th>PAY_AMT1</th>\n",
              "      <th>PAY_AMT2</th>\n",
              "      <th>PAY_AMT3</th>\n",
              "      <th>PAY_AMT4</th>\n",
              "      <th>PAY_AMT5</th>\n",
              "      <th>PAY_AMT6</th>\n",
              "      <th>default.payment.next.month</th>\n",
              "    </tr>\n",
              "  </thead>\n",
              "  <tbody>\n",
              "    <tr>\n",
              "      <th>0</th>\n",
              "      <td>1</td>\n",
              "      <td>20000.0</td>\n",
              "      <td>2</td>\n",
              "      <td>2</td>\n",
              "      <td>1</td>\n",
              "      <td>24</td>\n",
              "      <td>2</td>\n",
              "      <td>2</td>\n",
              "      <td>-1</td>\n",
              "      <td>-1</td>\n",
              "      <td>-2</td>\n",
              "      <td>-2</td>\n",
              "      <td>3913.0</td>\n",
              "      <td>3102.0</td>\n",
              "      <td>689.0</td>\n",
              "      <td>0.0</td>\n",
              "      <td>0.0</td>\n",
              "      <td>0.0</td>\n",
              "      <td>0.0</td>\n",
              "      <td>689.0</td>\n",
              "      <td>0.0</td>\n",
              "      <td>0.0</td>\n",
              "      <td>0.0</td>\n",
              "      <td>0.0</td>\n",
              "      <td>1</td>\n",
              "    </tr>\n",
              "    <tr>\n",
              "      <th>1</th>\n",
              "      <td>2</td>\n",
              "      <td>120000.0</td>\n",
              "      <td>2</td>\n",
              "      <td>2</td>\n",
              "      <td>2</td>\n",
              "      <td>26</td>\n",
              "      <td>-1</td>\n",
              "      <td>2</td>\n",
              "      <td>0</td>\n",
              "      <td>0</td>\n",
              "      <td>0</td>\n",
              "      <td>2</td>\n",
              "      <td>2682.0</td>\n",
              "      <td>1725.0</td>\n",
              "      <td>2682.0</td>\n",
              "      <td>3272.0</td>\n",
              "      <td>3455.0</td>\n",
              "      <td>3261.0</td>\n",
              "      <td>0.0</td>\n",
              "      <td>1000.0</td>\n",
              "      <td>1000.0</td>\n",
              "      <td>1000.0</td>\n",
              "      <td>0.0</td>\n",
              "      <td>2000.0</td>\n",
              "      <td>1</td>\n",
              "    </tr>\n",
              "    <tr>\n",
              "      <th>2</th>\n",
              "      <td>3</td>\n",
              "      <td>90000.0</td>\n",
              "      <td>2</td>\n",
              "      <td>2</td>\n",
              "      <td>2</td>\n",
              "      <td>34</td>\n",
              "      <td>0</td>\n",
              "      <td>0</td>\n",
              "      <td>0</td>\n",
              "      <td>0</td>\n",
              "      <td>0</td>\n",
              "      <td>0</td>\n",
              "      <td>29239.0</td>\n",
              "      <td>14027.0</td>\n",
              "      <td>13559.0</td>\n",
              "      <td>14331.0</td>\n",
              "      <td>14948.0</td>\n",
              "      <td>15549.0</td>\n",
              "      <td>1518.0</td>\n",
              "      <td>1500.0</td>\n",
              "      <td>1000.0</td>\n",
              "      <td>1000.0</td>\n",
              "      <td>1000.0</td>\n",
              "      <td>5000.0</td>\n",
              "      <td>0</td>\n",
              "    </tr>\n",
              "    <tr>\n",
              "      <th>3</th>\n",
              "      <td>4</td>\n",
              "      <td>50000.0</td>\n",
              "      <td>2</td>\n",
              "      <td>2</td>\n",
              "      <td>1</td>\n",
              "      <td>37</td>\n",
              "      <td>0</td>\n",
              "      <td>0</td>\n",
              "      <td>0</td>\n",
              "      <td>0</td>\n",
              "      <td>0</td>\n",
              "      <td>0</td>\n",
              "      <td>46990.0</td>\n",
              "      <td>48233.0</td>\n",
              "      <td>49291.0</td>\n",
              "      <td>28314.0</td>\n",
              "      <td>28959.0</td>\n",
              "      <td>29547.0</td>\n",
              "      <td>2000.0</td>\n",
              "      <td>2019.0</td>\n",
              "      <td>1200.0</td>\n",
              "      <td>1100.0</td>\n",
              "      <td>1069.0</td>\n",
              "      <td>1000.0</td>\n",
              "      <td>0</td>\n",
              "    </tr>\n",
              "    <tr>\n",
              "      <th>4</th>\n",
              "      <td>5</td>\n",
              "      <td>50000.0</td>\n",
              "      <td>1</td>\n",
              "      <td>2</td>\n",
              "      <td>1</td>\n",
              "      <td>57</td>\n",
              "      <td>-1</td>\n",
              "      <td>0</td>\n",
              "      <td>-1</td>\n",
              "      <td>0</td>\n",
              "      <td>0</td>\n",
              "      <td>0</td>\n",
              "      <td>8617.0</td>\n",
              "      <td>5670.0</td>\n",
              "      <td>35835.0</td>\n",
              "      <td>20940.0</td>\n",
              "      <td>19146.0</td>\n",
              "      <td>19131.0</td>\n",
              "      <td>2000.0</td>\n",
              "      <td>36681.0</td>\n",
              "      <td>10000.0</td>\n",
              "      <td>9000.0</td>\n",
              "      <td>689.0</td>\n",
              "      <td>679.0</td>\n",
              "      <td>0</td>\n",
              "    </tr>\n",
              "  </tbody>\n",
              "</table>\n",
              "</div>"
            ],
            "text/plain": [
              "   ID  LIMIT_BAL  SEX  ...  PAY_AMT5  PAY_AMT6  default.payment.next.month\n",
              "0   1    20000.0    2  ...       0.0       0.0                           1\n",
              "1   2   120000.0    2  ...       0.0    2000.0                           1\n",
              "2   3    90000.0    2  ...    1000.0    5000.0                           0\n",
              "3   4    50000.0    2  ...    1069.0    1000.0                           0\n",
              "4   5    50000.0    1  ...     689.0     679.0                           0\n",
              "\n",
              "[5 rows x 25 columns]"
            ]
          },
          "metadata": {
            "tags": []
          },
          "execution_count": 1
        }
      ]
    },
    {
      "cell_type": "code",
      "metadata": {
        "id": "HIyfjf7wm9_q",
        "colab": {
          "base_uri": "https://localhost:8080/"
        },
        "outputId": "e802350b-4b31-46ce-f8bc-805dae02bebb"
      },
      "source": [
        "#melihat tipe data dari setiap atribut dataset\n",
        "df.dtypes"
      ],
      "execution_count": null,
      "outputs": [
        {
          "output_type": "execute_result",
          "data": {
            "text/plain": [
              "ID                              int64\n",
              "LIMIT_BAL                     float64\n",
              "SEX                             int64\n",
              "EDUCATION                       int64\n",
              "MARRIAGE                        int64\n",
              "AGE                             int64\n",
              "PAY_0                           int64\n",
              "PAY_2                           int64\n",
              "PAY_3                           int64\n",
              "PAY_4                           int64\n",
              "PAY_5                           int64\n",
              "PAY_6                           int64\n",
              "BILL_AMT1                     float64\n",
              "BILL_AMT2                     float64\n",
              "BILL_AMT3                     float64\n",
              "BILL_AMT4                     float64\n",
              "BILL_AMT5                     float64\n",
              "BILL_AMT6                     float64\n",
              "PAY_AMT1                      float64\n",
              "PAY_AMT2                      float64\n",
              "PAY_AMT3                      float64\n",
              "PAY_AMT4                      float64\n",
              "PAY_AMT5                      float64\n",
              "PAY_AMT6                      float64\n",
              "default.payment.next.month      int64\n",
              "dtype: object"
            ]
          },
          "metadata": {
            "tags": []
          },
          "execution_count": 2
        }
      ]
    },
    {
      "cell_type": "code",
      "metadata": {
        "id": "LfHJcm7y5Lz1",
        "colab": {
          "base_uri": "https://localhost:8080/",
          "height": 304
        },
        "outputId": "1fdcaf84-6f18-40c5-f649-ca84a5f92685"
      },
      "source": [
        "#melihat statistik deskriptif dari setiap atribut dataset\n",
        "df.describe()"
      ],
      "execution_count": null,
      "outputs": [
        {
          "output_type": "execute_result",
          "data": {
            "text/html": [
              "<div>\n",
              "<style scoped>\n",
              "    .dataframe tbody tr th:only-of-type {\n",
              "        vertical-align: middle;\n",
              "    }\n",
              "\n",
              "    .dataframe tbody tr th {\n",
              "        vertical-align: top;\n",
              "    }\n",
              "\n",
              "    .dataframe thead th {\n",
              "        text-align: right;\n",
              "    }\n",
              "</style>\n",
              "<table border=\"1\" class=\"dataframe\">\n",
              "  <thead>\n",
              "    <tr style=\"text-align: right;\">\n",
              "      <th></th>\n",
              "      <th>ID</th>\n",
              "      <th>LIMIT_BAL</th>\n",
              "      <th>SEX</th>\n",
              "      <th>EDUCATION</th>\n",
              "      <th>MARRIAGE</th>\n",
              "      <th>AGE</th>\n",
              "      <th>PAY_0</th>\n",
              "      <th>PAY_2</th>\n",
              "      <th>PAY_3</th>\n",
              "      <th>PAY_4</th>\n",
              "      <th>PAY_5</th>\n",
              "      <th>PAY_6</th>\n",
              "      <th>BILL_AMT1</th>\n",
              "      <th>BILL_AMT2</th>\n",
              "      <th>BILL_AMT3</th>\n",
              "      <th>BILL_AMT4</th>\n",
              "      <th>BILL_AMT5</th>\n",
              "      <th>BILL_AMT6</th>\n",
              "      <th>PAY_AMT1</th>\n",
              "      <th>PAY_AMT2</th>\n",
              "      <th>PAY_AMT3</th>\n",
              "      <th>PAY_AMT4</th>\n",
              "      <th>PAY_AMT5</th>\n",
              "      <th>PAY_AMT6</th>\n",
              "      <th>default.payment.next.month</th>\n",
              "    </tr>\n",
              "  </thead>\n",
              "  <tbody>\n",
              "    <tr>\n",
              "      <th>count</th>\n",
              "      <td>30000.000000</td>\n",
              "      <td>30000.000000</td>\n",
              "      <td>30000.000000</td>\n",
              "      <td>30000.000000</td>\n",
              "      <td>30000.000000</td>\n",
              "      <td>30000.000000</td>\n",
              "      <td>30000.000000</td>\n",
              "      <td>30000.000000</td>\n",
              "      <td>30000.000000</td>\n",
              "      <td>30000.000000</td>\n",
              "      <td>30000.000000</td>\n",
              "      <td>30000.000000</td>\n",
              "      <td>30000.000000</td>\n",
              "      <td>30000.000000</td>\n",
              "      <td>3.000000e+04</td>\n",
              "      <td>30000.000000</td>\n",
              "      <td>30000.000000</td>\n",
              "      <td>30000.000000</td>\n",
              "      <td>30000.000000</td>\n",
              "      <td>3.000000e+04</td>\n",
              "      <td>30000.00000</td>\n",
              "      <td>30000.000000</td>\n",
              "      <td>30000.000000</td>\n",
              "      <td>30000.000000</td>\n",
              "      <td>30000.000000</td>\n",
              "    </tr>\n",
              "    <tr>\n",
              "      <th>mean</th>\n",
              "      <td>15000.500000</td>\n",
              "      <td>167484.322667</td>\n",
              "      <td>1.603733</td>\n",
              "      <td>1.853133</td>\n",
              "      <td>1.551867</td>\n",
              "      <td>35.485500</td>\n",
              "      <td>-0.016700</td>\n",
              "      <td>-0.133767</td>\n",
              "      <td>-0.166200</td>\n",
              "      <td>-0.220667</td>\n",
              "      <td>-0.266200</td>\n",
              "      <td>-0.291100</td>\n",
              "      <td>51223.330900</td>\n",
              "      <td>49179.075167</td>\n",
              "      <td>4.701315e+04</td>\n",
              "      <td>43262.948967</td>\n",
              "      <td>40311.400967</td>\n",
              "      <td>38871.760400</td>\n",
              "      <td>5663.580500</td>\n",
              "      <td>5.921163e+03</td>\n",
              "      <td>5225.68150</td>\n",
              "      <td>4826.076867</td>\n",
              "      <td>4799.387633</td>\n",
              "      <td>5215.502567</td>\n",
              "      <td>0.221200</td>\n",
              "    </tr>\n",
              "    <tr>\n",
              "      <th>std</th>\n",
              "      <td>8660.398374</td>\n",
              "      <td>129747.661567</td>\n",
              "      <td>0.489129</td>\n",
              "      <td>0.790349</td>\n",
              "      <td>0.521970</td>\n",
              "      <td>9.217904</td>\n",
              "      <td>1.123802</td>\n",
              "      <td>1.197186</td>\n",
              "      <td>1.196868</td>\n",
              "      <td>1.169139</td>\n",
              "      <td>1.133187</td>\n",
              "      <td>1.149988</td>\n",
              "      <td>73635.860576</td>\n",
              "      <td>71173.768783</td>\n",
              "      <td>6.934939e+04</td>\n",
              "      <td>64332.856134</td>\n",
              "      <td>60797.155770</td>\n",
              "      <td>59554.107537</td>\n",
              "      <td>16563.280354</td>\n",
              "      <td>2.304087e+04</td>\n",
              "      <td>17606.96147</td>\n",
              "      <td>15666.159744</td>\n",
              "      <td>15278.305679</td>\n",
              "      <td>17777.465775</td>\n",
              "      <td>0.415062</td>\n",
              "    </tr>\n",
              "    <tr>\n",
              "      <th>min</th>\n",
              "      <td>1.000000</td>\n",
              "      <td>10000.000000</td>\n",
              "      <td>1.000000</td>\n",
              "      <td>0.000000</td>\n",
              "      <td>0.000000</td>\n",
              "      <td>21.000000</td>\n",
              "      <td>-2.000000</td>\n",
              "      <td>-2.000000</td>\n",
              "      <td>-2.000000</td>\n",
              "      <td>-2.000000</td>\n",
              "      <td>-2.000000</td>\n",
              "      <td>-2.000000</td>\n",
              "      <td>-165580.000000</td>\n",
              "      <td>-69777.000000</td>\n",
              "      <td>-1.572640e+05</td>\n",
              "      <td>-170000.000000</td>\n",
              "      <td>-81334.000000</td>\n",
              "      <td>-339603.000000</td>\n",
              "      <td>0.000000</td>\n",
              "      <td>0.000000e+00</td>\n",
              "      <td>0.00000</td>\n",
              "      <td>0.000000</td>\n",
              "      <td>0.000000</td>\n",
              "      <td>0.000000</td>\n",
              "      <td>0.000000</td>\n",
              "    </tr>\n",
              "    <tr>\n",
              "      <th>25%</th>\n",
              "      <td>7500.750000</td>\n",
              "      <td>50000.000000</td>\n",
              "      <td>1.000000</td>\n",
              "      <td>1.000000</td>\n",
              "      <td>1.000000</td>\n",
              "      <td>28.000000</td>\n",
              "      <td>-1.000000</td>\n",
              "      <td>-1.000000</td>\n",
              "      <td>-1.000000</td>\n",
              "      <td>-1.000000</td>\n",
              "      <td>-1.000000</td>\n",
              "      <td>-1.000000</td>\n",
              "      <td>3558.750000</td>\n",
              "      <td>2984.750000</td>\n",
              "      <td>2.666250e+03</td>\n",
              "      <td>2326.750000</td>\n",
              "      <td>1763.000000</td>\n",
              "      <td>1256.000000</td>\n",
              "      <td>1000.000000</td>\n",
              "      <td>8.330000e+02</td>\n",
              "      <td>390.00000</td>\n",
              "      <td>296.000000</td>\n",
              "      <td>252.500000</td>\n",
              "      <td>117.750000</td>\n",
              "      <td>0.000000</td>\n",
              "    </tr>\n",
              "    <tr>\n",
              "      <th>50%</th>\n",
              "      <td>15000.500000</td>\n",
              "      <td>140000.000000</td>\n",
              "      <td>2.000000</td>\n",
              "      <td>2.000000</td>\n",
              "      <td>2.000000</td>\n",
              "      <td>34.000000</td>\n",
              "      <td>0.000000</td>\n",
              "      <td>0.000000</td>\n",
              "      <td>0.000000</td>\n",
              "      <td>0.000000</td>\n",
              "      <td>0.000000</td>\n",
              "      <td>0.000000</td>\n",
              "      <td>22381.500000</td>\n",
              "      <td>21200.000000</td>\n",
              "      <td>2.008850e+04</td>\n",
              "      <td>19052.000000</td>\n",
              "      <td>18104.500000</td>\n",
              "      <td>17071.000000</td>\n",
              "      <td>2100.000000</td>\n",
              "      <td>2.009000e+03</td>\n",
              "      <td>1800.00000</td>\n",
              "      <td>1500.000000</td>\n",
              "      <td>1500.000000</td>\n",
              "      <td>1500.000000</td>\n",
              "      <td>0.000000</td>\n",
              "    </tr>\n",
              "    <tr>\n",
              "      <th>75%</th>\n",
              "      <td>22500.250000</td>\n",
              "      <td>240000.000000</td>\n",
              "      <td>2.000000</td>\n",
              "      <td>2.000000</td>\n",
              "      <td>2.000000</td>\n",
              "      <td>41.000000</td>\n",
              "      <td>0.000000</td>\n",
              "      <td>0.000000</td>\n",
              "      <td>0.000000</td>\n",
              "      <td>0.000000</td>\n",
              "      <td>0.000000</td>\n",
              "      <td>0.000000</td>\n",
              "      <td>67091.000000</td>\n",
              "      <td>64006.250000</td>\n",
              "      <td>6.016475e+04</td>\n",
              "      <td>54506.000000</td>\n",
              "      <td>50190.500000</td>\n",
              "      <td>49198.250000</td>\n",
              "      <td>5006.000000</td>\n",
              "      <td>5.000000e+03</td>\n",
              "      <td>4505.00000</td>\n",
              "      <td>4013.250000</td>\n",
              "      <td>4031.500000</td>\n",
              "      <td>4000.000000</td>\n",
              "      <td>0.000000</td>\n",
              "    </tr>\n",
              "    <tr>\n",
              "      <th>max</th>\n",
              "      <td>30000.000000</td>\n",
              "      <td>1000000.000000</td>\n",
              "      <td>2.000000</td>\n",
              "      <td>6.000000</td>\n",
              "      <td>3.000000</td>\n",
              "      <td>79.000000</td>\n",
              "      <td>8.000000</td>\n",
              "      <td>8.000000</td>\n",
              "      <td>8.000000</td>\n",
              "      <td>8.000000</td>\n",
              "      <td>8.000000</td>\n",
              "      <td>8.000000</td>\n",
              "      <td>964511.000000</td>\n",
              "      <td>983931.000000</td>\n",
              "      <td>1.664089e+06</td>\n",
              "      <td>891586.000000</td>\n",
              "      <td>927171.000000</td>\n",
              "      <td>961664.000000</td>\n",
              "      <td>873552.000000</td>\n",
              "      <td>1.684259e+06</td>\n",
              "      <td>896040.00000</td>\n",
              "      <td>621000.000000</td>\n",
              "      <td>426529.000000</td>\n",
              "      <td>528666.000000</td>\n",
              "      <td>1.000000</td>\n",
              "    </tr>\n",
              "  </tbody>\n",
              "</table>\n",
              "</div>"
            ],
            "text/plain": [
              "                 ID       LIMIT_BAL  ...       PAY_AMT6  default.payment.next.month\n",
              "count  30000.000000    30000.000000  ...   30000.000000                30000.000000\n",
              "mean   15000.500000   167484.322667  ...    5215.502567                    0.221200\n",
              "std     8660.398374   129747.661567  ...   17777.465775                    0.415062\n",
              "min        1.000000    10000.000000  ...       0.000000                    0.000000\n",
              "25%     7500.750000    50000.000000  ...     117.750000                    0.000000\n",
              "50%    15000.500000   140000.000000  ...    1500.000000                    0.000000\n",
              "75%    22500.250000   240000.000000  ...    4000.000000                    0.000000\n",
              "max    30000.000000  1000000.000000  ...  528666.000000                    1.000000\n",
              "\n",
              "[8 rows x 25 columns]"
            ]
          },
          "metadata": {
            "tags": []
          },
          "execution_count": 3
        }
      ]
    },
    {
      "cell_type": "code",
      "metadata": {
        "id": "wXKh4SmC5wTM",
        "colab": {
          "base_uri": "https://localhost:8080/"
        },
        "outputId": "6ef3beb9-5419-4950-8edb-5ceb3953e26b"
      },
      "source": [
        "#melihat overview dari records yang ada di dataset\n",
        "df.info"
      ],
      "execution_count": null,
      "outputs": [
        {
          "output_type": "execute_result",
          "data": {
            "text/plain": [
              "<bound method DataFrame.info of           ID  LIMIT_BAL  SEX  ...  PAY_AMT5  PAY_AMT6  default.payment.next.month\n",
              "0          1    20000.0    2  ...       0.0       0.0                           1\n",
              "1          2   120000.0    2  ...       0.0    2000.0                           1\n",
              "2          3    90000.0    2  ...    1000.0    5000.0                           0\n",
              "3          4    50000.0    2  ...    1069.0    1000.0                           0\n",
              "4          5    50000.0    1  ...     689.0     679.0                           0\n",
              "...      ...        ...  ...  ...       ...       ...                         ...\n",
              "29995  29996   220000.0    1  ...    5000.0    1000.0                           0\n",
              "29996  29997   150000.0    1  ...       0.0       0.0                           0\n",
              "29997  29998    30000.0    1  ...    2000.0    3100.0                           1\n",
              "29998  29999    80000.0    1  ...   52964.0    1804.0                           1\n",
              "29999  30000    50000.0    1  ...    1000.0    1000.0                           1\n",
              "\n",
              "[30000 rows x 25 columns]>"
            ]
          },
          "metadata": {
            "tags": []
          },
          "execution_count": 4
        }
      ]
    },
    {
      "cell_type": "code",
      "metadata": {
        "id": "d_KBhb538DbJ",
        "colab": {
          "base_uri": "https://localhost:8080/"
        },
        "outputId": "fff5c8c5-5864-4452-fd73-332283514793"
      },
      "source": [
        "#Mengubah nama kolom 'PAY_0' menjadi 'PAY_1' agar konsisten dengan 'BILL_AMTX' dan 'PAY_AMTX'\n",
        "df.rename(columns={'PAY_0':'PAY_1'}, inplace = True)\n",
        "df.rename(columns={'default.payment.next.month':'DEFAULT'}, inplace = True)\n",
        "df.columns"
      ],
      "execution_count": null,
      "outputs": [
        {
          "output_type": "execute_result",
          "data": {
            "text/plain": [
              "Index(['ID', 'LIMIT_BAL', 'SEX', 'EDUCATION', 'MARRIAGE', 'AGE', 'PAY_1',\n",
              "       'PAY_2', 'PAY_3', 'PAY_4', 'PAY_5', 'PAY_6', 'BILL_AMT1', 'BILL_AMT2',\n",
              "       'BILL_AMT3', 'BILL_AMT4', 'BILL_AMT5', 'BILL_AMT6', 'PAY_AMT1',\n",
              "       'PAY_AMT2', 'PAY_AMT3', 'PAY_AMT4', 'PAY_AMT5', 'PAY_AMT6', 'DEFAULT'],\n",
              "      dtype='object')"
            ]
          },
          "metadata": {
            "tags": []
          },
          "execution_count": 5
        }
      ]
    },
    {
      "cell_type": "markdown",
      "metadata": {
        "id": "J4hyJLMyQIrd"
      },
      "source": [
        "###Jumlah persentase kartu kredit default"
      ]
    },
    {
      "cell_type": "code",
      "metadata": {
        "id": "HL_sOOoA-tpH",
        "colab": {
          "base_uri": "https://localhost:8080/",
          "height": 306
        },
        "outputId": "b4567c12-943b-4f49-b7d0-980b44737387"
      },
      "source": [
        "yes = len(df.loc[df['DEFAULT'] == 1])\n",
        "no = len(df)-yes\n",
        "\n",
        "# Percentage\n",
        "yes_perc = round(yes/len(df)*100, 1)\n",
        "no_perc = round(no/len(df)*100, 1)\n",
        "\n",
        "import sys \n",
        "plt.figure(figsize=(7,4))\n",
        "sns.set_context('notebook', font_scale=1.2)\n",
        "sns.countplot('DEFAULT',data=df, palette=\"Blues\")\n",
        "plt.annotate('Non-default: {}'.format(no), xy=(-0.3, 15000), xytext=(-0.3, 3000), size=12)\n",
        "plt.annotate('Default: {}'.format(yes), xy=(0.7, 15000), xytext=(0.7, 3000), size=12)\n",
        "plt.annotate(str(no_perc)+\" %\", xy=(-0.3, 15000), xytext=(-0.1, 8000), size=12)\n",
        "plt.annotate(str(yes_perc)+\" %\", xy=(0.7, 15000), xytext=(0.9, 8000), size=12)\n",
        "plt.title('Persentase kartu kredit default', size=14)\n",
        "#Removing the frame\n",
        "plt.box(False);"
      ],
      "execution_count": null,
      "outputs": [
        {
          "output_type": "display_data",
          "data": {
            "image/png": "[encoded data removed]",
            "text/plain": [
              "<Figure size 504x288 with 1 Axes>"
            ]
          },
          "metadata": {
            "tags": [],
            "needs_background": "light"
          }
        }
      ]
    },
    {
      "cell_type": "markdown",
      "metadata": {
        "id": "3akIJyaflPfy"
      },
      "source": [
        "Grafik di atas menunjukkan persentase kartu kredit yang default dan kartu kredit yang tidak default dari keseluruhan pelanggan kartu kredit"
      ]
    },
    {
      "cell_type": "markdown",
      "metadata": {
        "id": "B6NQnG_2Q3Ig"
      },
      "source": [
        "###Jumlah Default pada tiap kategori data (Gender, Pendidikan, Status Pernikahan, Status Pembayaran)"
      ]
    },
    {
      "cell_type": "code",
      "metadata": {
        "id": "0MWAxJyhBpIb",
        "colab": {
          "base_uri": "https://localhost:8080/",
          "height": 925
        },
        "outputId": "e8a26822-946e-44e5-b305-4a684ef24e79"
      },
      "source": [
        "subset = df[['SEX', 'EDUCATION', 'MARRIAGE', 'PAY_1', 'PAY_2', 'PAY_3', 'PAY_4', \n",
        "               'PAY_5', 'PAY_6', 'DEFAULT']]\n",
        "\n",
        "f, axes = plt.subplots(3, 3, figsize=(20, 15), facecolor='white')\n",
        "f.suptitle('FREQUENCY OF CATEGORICAL ATTRIBUTES (BY DEFAULT)')\n",
        "ax1 = sns.countplot(x=\"SEX\", hue=\"DEFAULT\", data=subset, palette=\"Blues\", ax=axes[0,0])\n",
        "ax2 = sns.countplot(x=\"EDUCATION\", hue=\"DEFAULT\", data=subset, palette=\"Blues\",ax=axes[0,1])\n",
        "ax3 = sns.countplot(x=\"MARRIAGE\", hue=\"DEFAULT\", data=subset, palette=\"Blues\",ax=axes[0,2])\n",
        "ax4 = sns.countplot(x=\"PAY_1\", hue=\"DEFAULT\", data=subset, palette=\"Blues\", ax=axes[1,0])\n",
        "ax5 = sns.countplot(x=\"PAY_2\", hue=\"DEFAULT\", data=subset, palette=\"Blues\", ax=axes[1,1])\n",
        "ax6 = sns.countplot(x=\"PAY_3\", hue=\"DEFAULT\", data=subset, palette=\"Blues\", ax=axes[1,2])\n",
        "ax7 = sns.countplot(x=\"PAY_4\", hue=\"DEFAULT\", data=subset, palette=\"Blues\", ax=axes[2,0])\n",
        "ax8 = sns.countplot(x=\"PAY_5\", hue=\"DEFAULT\", data=subset, palette=\"Blues\", ax=axes[2,1])\n",
        "ax9 = sns.countplot(x=\"PAY_6\", hue=\"DEFAULT\", data=subset, palette=\"Blues\", ax=axes[2,2]);"
      ],
      "execution_count": null,
      "outputs": [
        {
          "output_type": "display_data",
          "data": {
            "image/png": "[encoded data removed]",
            "text/plain": [
              "<Figure size 1440x1080 with 9 Axes>"
            ]
          },
          "metadata": {
            "tags": []
          }
        }
      ]
    },
    {
      "cell_type": "markdown",
      "metadata": {
        "id": "Zzh9-aWFlA5D"
      },
      "source": [
        "Grafik-grafik di atas menunjukkan persebaran kartu kredit yang default dan yang tidak berdasarkan 9 atribut."
      ]
    },
    {
      "cell_type": "markdown",
      "metadata": {
        "id": "CkVeKg5PRa89"
      },
      "source": [
        "###Jumlah Kartu Kredit Default pada tiap rentang Limit Balance Kartu Kredit (Terbagi dalam 40 rentang)"
      ]
    },
    {
      "cell_type": "code",
      "metadata": {
        "id": "pRUf2h27Dg0D",
        "colab": {
          "base_uri": "https://localhost:8080/",
          "height": 361
        },
        "outputId": "f04ceee5-8d5f-401b-fcd3-5f15df3de3de"
      },
      "source": [
        "x1 = list(df[df['DEFAULT'] == 1]['LIMIT_BAL'])\n",
        "x2 = list(df[df['DEFAULT'] == 0]['LIMIT_BAL'])\n",
        "\n",
        "plt.figure(figsize=(12,4))\n",
        "sns.set_context('notebook', font_scale=1.2)\n",
        "#sns.set_color_codes(\"pastel\")\n",
        "plt.hist([x1, x2], bins = 40, color=['steelblue', 'lightblue'])\n",
        "plt.xlim([0,600000])\n",
        "plt.legend(['Yes', 'No'], title = 'Default', loc='upper right', facecolor='white')\n",
        "plt.xlabel('Limit Balance (NT dollar)')\n",
        "plt.ylabel('Frequency')\n",
        "plt.title('DEFAULT CREDIT CARD BY LIMIT BALANCE', SIZE=15)\n",
        "plt.box(False)\n",
        "plt.savefig('ImageName', format='png', dpi=200, transparent=True);"
      ],
      "execution_count": null,
      "outputs": [
        {
          "output_type": "stream",
          "text": [
            "/usr/local/lib/python3.6/dist-packages/numpy/core/_asarray.py:83: VisibleDeprecationWarning: Creating an ndarray from ragged nested sequences (which is a list-or-tuple of lists-or-tuples-or ndarrays with different lengths or shapes) is deprecated. If you meant to do this, you must specify 'dtype=object' when creating the ndarray\n",
            "  return array(a, dtype, copy=False, order=order)\n"
          ],
          "name": "stderr"
        },
        {
          "output_type": "display_data",
          "data": {
            "image/png": "[encoded data removed]",
            "text/plain": [
              "<Figure size 864x288 with 1 Axes>"
            ]
          },
          "metadata": {
            "tags": [],
            "needs_background": "light"
          }
        }
      ]
    },
    {
      "cell_type": "markdown",
      "metadata": {
        "id": "PtA3UCOckkY2"
      },
      "source": [
        "Grafik tersebut memperlihatkan persebaran kartu kredit yang default dan tidak berdasarkan limit balance"
      ]
    },
    {
      "cell_type": "markdown",
      "metadata": {
        "id": "8xl-1-i6R3f0"
      },
      "source": [
        "###Korelasi Antar Atribut"
      ]
    },
    {
      "cell_type": "code",
      "metadata": {
        "id": "5xxkJ8TSEDw4",
        "colab": {
          "base_uri": "https://localhost:8080/",
          "height": 495
        },
        "outputId": "0f480278-fd8f-4853-ba8a-8dbbd1ab6cba"
      },
      "source": [
        "corr = df.corr() # .corr is used to find corelation\n",
        "f,ax = plt.subplots(figsize=(8, 7))\n",
        "sns.heatmap(corr, cbar = True,  square = True, annot = False, fmt= '.1f', \n",
        "            xticklabels= True, yticklabels= True\n",
        "            ,cmap=\"coolwarm\", linewidths=.5, ax=ax)\n",
        "plt.title('CORRELATION MATRIX - HEATMAP', size=18);"
      ],
      "execution_count": null,
      "outputs": [
        {
          "output_type": "display_data",
          "data": {
            "image/png": "[encoded data removed]",
            "text/plain": [
              "<Figure size 576x504 with 2 Axes>"
            ]
          },
          "metadata": {
            "tags": [],
            "needs_background": "light"
          }
        }
      ]
    },
    {
      "cell_type": "markdown",
      "metadata": {
        "id": "bUZQdkXAhE7J"
      },
      "source": [
        "####Korelasi Antara Setiap Jumlah Tagihan per Bulan\n",
        "\n",
        "Dapat dilihat dari heatmap tersebut bahwa pelanggan-pelanggan kartu kredit memiliki jumlah tagihan yang relatif konstan. Dalam artian pelanggan yang memiliki tagihan dengan jumlah besar akan terus seperti itu di bulan-bulan berikutnya dan sebaliknya. Hal ini diindikasikan oleh koefisien korelasi yang mendekati 1 khususnya antar atribut 'BILL_AMTx' yang dominan berwarna merah tua."
      ]
    },
    {
      "cell_type": "markdown",
      "metadata": {
        "id": "CgzwD7dikbsW"
      },
      "source": [
        "####Korelasi Antara Setiap Status Pembayaran per Bulan\n",
        "\n",
        "Sedangkan untuk antar atribut 'PAY_x' juga memiliki koefisien korelasi yang nilainya berkisar antara 0.4-0.6 artinya mereka memiliki korelasi positif. Melalui pengetahuan ini kita dapat menyimpulkan bahwa pelanggan kartu kredit yang pembayarannya terlambat akan cenderung membayar terlambat pula pada tagihan bulan selanjutnya dan sebaliknya. Namun kecenderungan ini tidak sesignifikan korelasi pada atribut 'BILL_AMTx'."
      ]
    },
    {
      "cell_type": "code",
      "metadata": {
        "id": "TakCxXjtLY_f",
        "colab": {
          "base_uri": "https://localhost:8080/",
          "height": 343
        },
        "outputId": "7c58c8f5-bdaa-476b-97a2-a2bbf0f1cbbb"
      },
      "source": [
        "#Melakukan proses binning atau kategorisasi terhadap atribut \"LIMIT_BAL\" ke dalam tiga kategori yaitu Low, Medium, dan High\n",
        "bins = np.linspace(min(df[\"LIMIT_BAL\"]), max(df[\"LIMIT_BAL\"]), 4)\n",
        "bins\n",
        "group_names = ['Low', 'Medium', 'High']\n",
        "df['LIMIT_BAL_Binned'] = pd.cut(df['LIMIT_BAL'], bins, labels=group_names, include_lowest=True )\n",
        "df[['LIMIT_BAL','LIMIT_BAL_Binned']].head(10)"
      ],
      "execution_count": null,
      "outputs": [
        {
          "output_type": "execute_result",
          "data": {
            "text/html": [
              "<div>\n",
              "<style scoped>\n",
              "    .dataframe tbody tr th:only-of-type {\n",
              "        vertical-align: middle;\n",
              "    }\n",
              "\n",
              "    .dataframe tbody tr th {\n",
              "        vertical-align: top;\n",
              "    }\n",
              "\n",
              "    .dataframe thead th {\n",
              "        text-align: right;\n",
              "    }\n",
              "</style>\n",
              "<table border=\"1\" class=\"dataframe\">\n",
              "  <thead>\n",
              "    <tr style=\"text-align: right;\">\n",
              "      <th></th>\n",
              "      <th>LIMIT_BAL</th>\n",
              "      <th>LIMIT_BAL_Binned</th>\n",
              "    </tr>\n",
              "  </thead>\n",
              "  <tbody>\n",
              "    <tr>\n",
              "      <th>0</th>\n",
              "      <td>20000.0</td>\n",
              "      <td>Low</td>\n",
              "    </tr>\n",
              "    <tr>\n",
              "      <th>1</th>\n",
              "      <td>120000.0</td>\n",
              "      <td>Low</td>\n",
              "    </tr>\n",
              "    <tr>\n",
              "      <th>2</th>\n",
              "      <td>90000.0</td>\n",
              "      <td>Low</td>\n",
              "    </tr>\n",
              "    <tr>\n",
              "      <th>3</th>\n",
              "      <td>50000.0</td>\n",
              "      <td>Low</td>\n",
              "    </tr>\n",
              "    <tr>\n",
              "      <th>4</th>\n",
              "      <td>50000.0</td>\n",
              "      <td>Low</td>\n",
              "    </tr>\n",
              "    <tr>\n",
              "      <th>5</th>\n",
              "      <td>50000.0</td>\n",
              "      <td>Low</td>\n",
              "    </tr>\n",
              "    <tr>\n",
              "      <th>6</th>\n",
              "      <td>500000.0</td>\n",
              "      <td>Medium</td>\n",
              "    </tr>\n",
              "    <tr>\n",
              "      <th>7</th>\n",
              "      <td>100000.0</td>\n",
              "      <td>Low</td>\n",
              "    </tr>\n",
              "    <tr>\n",
              "      <th>8</th>\n",
              "      <td>140000.0</td>\n",
              "      <td>Low</td>\n",
              "    </tr>\n",
              "    <tr>\n",
              "      <th>9</th>\n",
              "      <td>20000.0</td>\n",
              "      <td>Low</td>\n",
              "    </tr>\n",
              "  </tbody>\n",
              "</table>\n",
              "</div>"
            ],
            "text/plain": [
              "   LIMIT_BAL LIMIT_BAL_Binned\n",
              "0    20000.0              Low\n",
              "1   120000.0              Low\n",
              "2    90000.0              Low\n",
              "3    50000.0              Low\n",
              "4    50000.0              Low\n",
              "5    50000.0              Low\n",
              "6   500000.0           Medium\n",
              "7   100000.0              Low\n",
              "8   140000.0              Low\n",
              "9    20000.0              Low"
            ]
          },
          "metadata": {
            "tags": []
          },
          "execution_count": 10
        }
      ]
    },
    {
      "cell_type": "code",
      "metadata": {
        "id": "083kjOB9MEBu",
        "colab": {
          "base_uri": "https://localhost:8080/"
        },
        "outputId": "195c0e6f-309a-47ff-b6e7-645d3ff5fe24"
      },
      "source": [
        "#Melihat berapa banyak rekord data di setiap kategori limit balance yang telah di bin\n",
        "df[\"LIMIT_BAL_Binned\"].value_counts()"
      ],
      "execution_count": null,
      "outputs": [
        {
          "output_type": "execute_result",
          "data": {
            "text/plain": [
              "Low       26412\n",
              "Medium     3552\n",
              "High         36\n",
              "Name: LIMIT_BAL_Binned, dtype: int64"
            ]
          },
          "metadata": {
            "tags": []
          },
          "execution_count": 11
        }
      ]
    },
    {
      "cell_type": "code",
      "metadata": {
        "id": "gM_I2t6SMOKK",
        "colab": {
          "base_uri": "https://localhost:8080/",
          "height": 225
        },
        "outputId": "d8c67e0e-befd-4037-fa37-af3bf22c57d6"
      },
      "source": [
        "#Melihat data hasil proses binning\n",
        "grouped_limit_test=df[['LIMIT_BAL_Binned', 'DEFAULT']].groupby(['LIMIT_BAL_Binned'])\n",
        "grouped_limit_test.head(2)"
      ],
      "execution_count": null,
      "outputs": [
        {
          "output_type": "execute_result",
          "data": {
            "text/html": [
              "<div>\n",
              "<style scoped>\n",
              "    .dataframe tbody tr th:only-of-type {\n",
              "        vertical-align: middle;\n",
              "    }\n",
              "\n",
              "    .dataframe tbody tr th {\n",
              "        vertical-align: top;\n",
              "    }\n",
              "\n",
              "    .dataframe thead th {\n",
              "        text-align: right;\n",
              "    }\n",
              "</style>\n",
              "<table border=\"1\" class=\"dataframe\">\n",
              "  <thead>\n",
              "    <tr style=\"text-align: right;\">\n",
              "      <th></th>\n",
              "      <th>LIMIT_BAL_Binned</th>\n",
              "      <th>DEFAULT</th>\n",
              "    </tr>\n",
              "  </thead>\n",
              "  <tbody>\n",
              "    <tr>\n",
              "      <th>0</th>\n",
              "      <td>Low</td>\n",
              "      <td>1</td>\n",
              "    </tr>\n",
              "    <tr>\n",
              "      <th>1</th>\n",
              "      <td>Low</td>\n",
              "      <td>1</td>\n",
              "    </tr>\n",
              "    <tr>\n",
              "      <th>6</th>\n",
              "      <td>Medium</td>\n",
              "      <td>0</td>\n",
              "    </tr>\n",
              "    <tr>\n",
              "      <th>12</th>\n",
              "      <td>Medium</td>\n",
              "      <td>0</td>\n",
              "    </tr>\n",
              "    <tr>\n",
              "      <th>811</th>\n",
              "      <td>High</td>\n",
              "      <td>0</td>\n",
              "    </tr>\n",
              "    <tr>\n",
              "      <th>1231</th>\n",
              "      <td>High</td>\n",
              "      <td>0</td>\n",
              "    </tr>\n",
              "  </tbody>\n",
              "</table>\n",
              "</div>"
            ],
            "text/plain": [
              "     LIMIT_BAL_Binned  DEFAULT\n",
              "0                 Low        1\n",
              "1                 Low        1\n",
              "6              Medium        0\n",
              "12             Medium        0\n",
              "811              High        0\n",
              "1231             High        0"
            ]
          },
          "metadata": {
            "tags": []
          },
          "execution_count": 12
        }
      ]
    },
    {
      "cell_type": "code",
      "metadata": {
        "id": "njdihRgGNVQg",
        "colab": {
          "base_uri": "https://localhost:8080/"
        },
        "outputId": "2edc726b-5236-47aa-bd6a-fd05a37c1884"
      },
      "source": [
        "from scipy import stats\n",
        "f_val, p_val = stats.f_oneway(grouped_limit_test.get_group('Low')['DEFAULT'], grouped_limit_test.get_group('Medium')['DEFAULT'], grouped_limit_test.get_group('High')['DEFAULT'])  \n",
        " \n",
        "print(\"ANOVA results: F=\", f_val, \", P =\", p_val)"
      ],
      "execution_count": null,
      "outputs": [
        {
          "output_type": "stream",
          "text": [
            "ANOVA results: F= 90.99218528521757 , P = 3.999305334864171e-40\n"
          ],
          "name": "stdout"
        }
      ]
    },
    {
      "cell_type": "markdown",
      "metadata": {
        "id": "bCeiPJwQ3F9H"
      },
      "source": [
        "Dari hasil tersebut dapat dilihat bahwa nilai F besar yang berarti kedua atribut tersebut, yaitu limit balance dan default memiliki korelasi yang kuat dan dengan nilai P yang mendekati 0 atau sangat kecil menandakan bahwa korelasi tersebut signifikan secara statistik"
      ]
    },
    {
      "cell_type": "markdown",
      "metadata": {
        "id": "f1DXgxXHxI2E"
      },
      "source": [
        "## **Data Preparation**"
      ]
    },
    {
      "cell_type": "markdown",
      "metadata": {
        "id": "GrA85U5uxUXd"
      },
      "source": [
        "### Memilih dan Memilah Data\n",
        "Semua atribut memiliki nalai dan dapat dimanfaatkan untuk analisis, sehingga tidak ada atribut yang di hapus."
      ]
    },
    {
      "cell_type": "markdown",
      "metadata": {
        "id": "QELcbAktxar9"
      },
      "source": [
        "### Membersihkan Data"
      ]
    },
    {
      "cell_type": "code",
      "metadata": {
        "id": "idBMFZXh8iZC",
        "colab": {
          "base_uri": "https://localhost:8080/"
        },
        "outputId": "cf1b3731-7751-45d9-b1a9-7f317641f778"
      },
      "source": [
        "#menyalin dataframe df ke pdf\n",
        "pdf = df\n",
        "\n",
        "# mengecek nilai unik pada kolom education\n",
        "df['EDUCATION'].unique()"
      ],
      "execution_count": null,
      "outputs": [
        {
          "output_type": "execute_result",
          "data": {
            "text/plain": [
              "array([2, 1, 3, 5, 4, 6, 0])"
            ]
          },
          "metadata": {
            "tags": []
          },
          "execution_count": 14
        }
      ]
    },
    {
      "cell_type": "code",
      "metadata": {
        "id": "J31ypXzI9JiF",
        "colab": {
          "base_uri": "https://localhost:8080/"
        },
        "outputId": "8c10a136-afc4-4541-b04b-4b98f0dece29"
      },
      "source": [
        "#menggabungkan nilai 5 dan 6 yang merupakan unkowData sudah bersihn dengan nilai 4 yang merupakan others\n",
        "pdf['EDUCATION']=np.where(pdf['EDUCATION'] == 5, 4, pdf['EDUCATION'])\n",
        "pdf['EDUCATION']=np.where(pdf['EDUCATION'] == 6, 4, pdf['EDUCATION'])\n",
        "pdf['EDUCATION']=np.where(pdf['EDUCATION'] == 0, 4, pdf['EDUCATION'])\n",
        "\n",
        "pdf['EDUCATION'].unique()\n"
      ],
      "execution_count": null,
      "outputs": [
        {
          "output_type": "execute_result",
          "data": {
            "text/plain": [
              "array([2, 1, 3, 4])"
            ]
          },
          "metadata": {
            "tags": []
          },
          "execution_count": 15
        }
      ]
    },
    {
      "cell_type": "code",
      "metadata": {
        "id": "wmTmWfik_Xuc",
        "colab": {
          "base_uri": "https://localhost:8080/"
        },
        "outputId": "fdb44d09-f12c-41e4-d416-ad648574ef12"
      },
      "source": [
        "# mengecek nilai unik pada kolom marriage\n",
        "pdf['MARRIAGE'].unique()"
      ],
      "execution_count": null,
      "outputs": [
        {
          "output_type": "execute_result",
          "data": {
            "text/plain": [
              "array([1, 2, 3, 0])"
            ]
          },
          "metadata": {
            "tags": []
          },
          "execution_count": 16
        }
      ]
    },
    {
      "cell_type": "code",
      "metadata": {
        "id": "_0rmp_SY-s7l",
        "colab": {
          "base_uri": "https://localhost:8080/"
        },
        "outputId": "2bc9df47-453d-4a18-f2c8-3d9b36b71081"
      },
      "source": [
        "# menggabungkan nilai 0 yang tidak bermakna ke kategori 3 yang merupakan others\n",
        "pdf['MARRIAGE']=np.where(pdf['MARRIAGE'] == 0, 3, pdf['MARRIAGE'])\n",
        "pdf['MARRIAGE'].unique()"
      ],
      "execution_count": null,
      "outputs": [
        {
          "output_type": "execute_result",
          "data": {
            "text/plain": [
              "array([1, 2, 3])"
            ]
          },
          "metadata": {
            "tags": []
          },
          "execution_count": 17
        }
      ]
    },
    {
      "cell_type": "markdown",
      "metadata": {
        "id": "z9JuRFG-Xfaf"
      },
      "source": [
        "### Mengkonstruksi Data\n",
        "Feature Engineering"
      ]
    },
    {
      "cell_type": "code",
      "metadata": {
        "id": "pxraG8SWXiXp",
        "colab": {
          "base_uri": "https://localhost:8080/",
          "height": 254
        },
        "outputId": "c8f2e50e-1990-4477-90aa-5fcb111b6616"
      },
      "source": [
        "def corr_2_cols(Col1, Col2):\n",
        "    res = df.groupby([Col1, Col2]).size().unstack()\n",
        "    res['perc'] = (res[res.columns[1]]/(res[res.columns[0]] + res[res.columns[1]]))\n",
        "    return res\n",
        "\n",
        "pdf['SEX_MARRIAGE'] = 0\n",
        "pdf.loc[((pdf.SEX == 1) & (pdf.MARRIAGE == 1)) , 'SEX_MARRIAGE'] = 1 #married man\n",
        "pdf.loc[((pdf.SEX == 1) & (pdf.MARRIAGE == 2)) , 'SEX_MARRIAGE'] = 2 #single man\n",
        "pdf.loc[((pdf.SEX == 1) & (pdf.MARRIAGE == 3)) , 'SEX_MARRIAGE'] = 3 #divorced man\n",
        "pdf.loc[((pdf.SEX == 2) & (pdf.MARRIAGE == 1)) , 'SEX_MARRIAGE'] = 4 #married woman\n",
        "pdf.loc[((pdf.SEX == 2) & (pdf.MARRIAGE == 2)) , 'SEX_MARRIAGE'] = 5 #single woman\n",
        "pdf.loc[((pdf.SEX == 2) & (pdf.MARRIAGE == 3)) , 'SEX_MARRIAGE'] = 6 #divorced woman\n",
        "corr_2_cols('SEX_MARRIAGE', 'DEFAULT')"
      ],
      "execution_count": null,
      "outputs": [
        {
          "output_type": "execute_result",
          "data": {
            "text/html": [
              "<div>\n",
              "<style scoped>\n",
              "    .dataframe tbody tr th:only-of-type {\n",
              "        vertical-align: middle;\n",
              "    }\n",
              "\n",
              "    .dataframe tbody tr th {\n",
              "        vertical-align: top;\n",
              "    }\n",
              "\n",
              "    .dataframe thead th {\n",
              "        text-align: right;\n",
              "    }\n",
              "</style>\n",
              "<table border=\"1\" class=\"dataframe\">\n",
              "  <thead>\n",
              "    <tr style=\"text-align: right;\">\n",
              "      <th>DEFAULT</th>\n",
              "      <th>0</th>\n",
              "      <th>1</th>\n",
              "      <th>perc</th>\n",
              "    </tr>\n",
              "    <tr>\n",
              "      <th>SEX_MARRIAGE</th>\n",
              "      <th></th>\n",
              "      <th></th>\n",
              "      <th></th>\n",
              "    </tr>\n",
              "  </thead>\n",
              "  <tbody>\n",
              "    <tr>\n",
              "      <th>1</th>\n",
              "      <td>3844</td>\n",
              "      <td>1346</td>\n",
              "      <td>0.259345</td>\n",
              "    </tr>\n",
              "    <tr>\n",
              "      <th>2</th>\n",
              "      <td>5068</td>\n",
              "      <td>1485</td>\n",
              "      <td>0.226614</td>\n",
              "    </tr>\n",
              "    <tr>\n",
              "      <th>3</th>\n",
              "      <td>103</td>\n",
              "      <td>42</td>\n",
              "      <td>0.289655</td>\n",
              "    </tr>\n",
              "    <tr>\n",
              "      <th>4</th>\n",
              "      <td>6609</td>\n",
              "      <td>1860</td>\n",
              "      <td>0.219625</td>\n",
              "    </tr>\n",
              "    <tr>\n",
              "      <th>5</th>\n",
              "      <td>7555</td>\n",
              "      <td>1856</td>\n",
              "      <td>0.197216</td>\n",
              "    </tr>\n",
              "    <tr>\n",
              "      <th>6</th>\n",
              "      <td>185</td>\n",
              "      <td>47</td>\n",
              "      <td>0.202586</td>\n",
              "    </tr>\n",
              "  </tbody>\n",
              "</table>\n",
              "</div>"
            ],
            "text/plain": [
              "DEFAULT          0     1      perc\n",
              "SEX_MARRIAGE                      \n",
              "1             3844  1346  0.259345\n",
              "2             5068  1485  0.226614\n",
              "3              103    42  0.289655\n",
              "4             6609  1860  0.219625\n",
              "5             7555  1856  0.197216\n",
              "6              185    47  0.202586"
            ]
          },
          "metadata": {
            "tags": []
          },
          "execution_count": 18
        }
      ]
    },
    {
      "cell_type": "markdown",
      "metadata": {
        "id": "RCfO-9SMZ1Rz"
      },
      "source": [
        "Dari feature engineering tersebut dapat diambil informasi bahwa kebanyakan pemilik kartu kredit yang default adalah laki-laki yang sudah duda"
      ]
    },
    {
      "cell_type": "markdown",
      "metadata": {
        "id": "JHaRPlO8xiHt"
      },
      "source": [
        "### Integrasi Data\n",
        "Tidak ada data yang dapat diintegrasikan"
      ]
    },
    {
      "cell_type": "markdown",
      "metadata": {
        "id": "Z5WLkogOKNzy"
      },
      "source": [
        "## **Data Modeling**"
      ]
    },
    {
      "cell_type": "markdown",
      "metadata": {
        "id": "fTDr-VkjD1kx"
      },
      "source": [
        "###Pembangunan Skenario Eksperimen"
      ]
    },
    {
      "cell_type": "markdown",
      "metadata": {
        "id": "k7CiHU4dD72A"
      },
      "source": [
        "####Memilih Algoritma"
      ]
    },
    {
      "cell_type": "markdown",
      "metadata": {
        "id": "Tp5r_ZhaGk2X"
      },
      "source": [
        "Kami memilih 5 algoritma klasifikasi machine learning. 5 algoritma ini adalah logistic regression, decision tree, random forest, K-Nearest Neighbors, dan Support Vector Machine."
      ]
    },
    {
      "cell_type": "markdown",
      "metadata": {
        "id": "G5EfZxRzD9x6"
      },
      "source": [
        "####Menentukan Eksperimen dan Pengujian"
      ]
    },
    {
      "cell_type": "markdown",
      "metadata": {
        "id": "NPgq_V9oImHj"
      },
      "source": [
        "Eksperimen yang kami lakukan adalah dengan membagi data yang sudah dibersihkan ke dalam data latih (data train) dan data tes (data test). Data latih kemudian dimasukkan ke dalam algoritma tuning untuk masing-masing jenis algoritma machine learning (Decision tree dan random forest). Keluaran dari algoritma tuning ini adalah parameter-parameter untuk memaksimalkan hasil dari algoritma machine learning.\n",
        "\n",
        "Selanjutnya data latih dimasukkan ke dalam algoritma machine learning dengan parameter tuning. Pengujian dilakukan dengan membandingkan nilai precision, recall, F1-score dari setiap algoritma machine learning."
      ]
    },
    {
      "cell_type": "markdown",
      "metadata": {
        "id": "wM_DRKLyECKo"
      },
      "source": [
        "####Membagi Data"
      ]
    },
    {
      "cell_type": "markdown",
      "metadata": {
        "id": "P8yDlHQ7GNyO"
      },
      "source": [
        "Membagi data untuk train dan data untuk test dengan rasio data train : data test = 4:1"
      ]
    },
    {
      "cell_type": "code",
      "metadata": {
        "id": "-X1mJyR6y7MG",
        "colab": {
          "base_uri": "https://localhost:8080/"
        },
        "outputId": "f3cb3a75-cb9b-41c0-dd29-d1d4a075506d"
      },
      "source": [
        "#Memisahkan Dataset Default dan non-Default Untuk Balancing Data\n",
        "Def = pdf[pdf.DEFAULT == 1]\n",
        "notDef = pdf[pdf.DEFAULT == 0]\n",
        "Def.shape"
      ],
      "execution_count": null,
      "outputs": [
        {
          "output_type": "execute_result",
          "data": {
            "text/plain": [
              "(6636, 27)"
            ]
          },
          "metadata": {
            "tags": []
          },
          "execution_count": 19
        }
      ]
    },
    {
      "cell_type": "code",
      "metadata": {
        "id": "cocirzm10wEY",
        "colab": {
          "base_uri": "https://localhost:8080/"
        },
        "outputId": "5f1dfa41-1c75-4b9d-d387-aa50ad7ca953"
      },
      "source": [
        "notDef2 = resample( notDef, replace=False,    # sample without replacement\n",
        "                    n_samples=6636,           # to match minority class\n",
        "                    random_state=123)         # reproducible results\n",
        "notDef2.shape"
      ],
      "execution_count": null,
      "outputs": [
        {
          "output_type": "execute_result",
          "data": {
            "text/plain": [
              "(6636, 27)"
            ]
          },
          "metadata": {
            "tags": []
          },
          "execution_count": 20
        }
      ]
    },
    {
      "cell_type": "code",
      "metadata": {
        "id": "290jO6yf1xOd",
        "colab": {
          "base_uri": "https://localhost:8080/"
        },
        "outputId": "6e476d23-00d2-45a7-efc0-63389d40e1be"
      },
      "source": [
        "#Menggabungkan atau concat dataset yang sudah dibalance\n",
        "pdf_downsampled = pd.concat([notDef2, Def])\n",
        "pdf_downsampled.DEFAULT.value_counts()"
      ],
      "execution_count": null,
      "outputs": [
        {
          "output_type": "execute_result",
          "data": {
            "text/plain": [
              "1    6636\n",
              "0    6636\n",
              "Name: DEFAULT, dtype: int64"
            ]
          },
          "metadata": {
            "tags": []
          },
          "execution_count": 21
        }
      ]
    },
    {
      "cell_type": "code",
      "metadata": {
        "id": "Wh3ABqDL2QEV"
      },
      "source": [
        "# Original dataset\n",
        "X = pdf_downsampled.drop(['DEFAULT','LIMIT_BAL_Binned','ID'], axis=1)  \n",
        "y = pdf_downsampled['DEFAULT']\n",
        "X.dtypes\n",
        "X_train, X_test, y_train, y_test = train_test_split(X,y, test_size=0.2, stratify=y, random_state=42)"
      ],
      "execution_count": null,
      "outputs": []
    },
    {
      "cell_type": "code",
      "metadata": {
        "id": "V0Fe7FBKAAXy"
      },
      "source": [
        "#Normalized Dataset\n",
        "Xnorm = preprocessing.StandardScaler().fit(X).transform(X)\n",
        "Xnorm[0:5]\n",
        "Xnorm_train, Xnorm_test, y_train, y_test = train_test_split(Xnorm,y, test_size=0.2, stratify=y, random_state=42)"
      ],
      "execution_count": null,
      "outputs": []
    },
    {
      "cell_type": "code",
      "metadata": {
        "id": "ijyWlWSCAhtm",
        "colab": {
          "base_uri": "https://localhost:8080/"
        },
        "outputId": "f76cd947-b310-48a2-d31a-c78396b8b32c"
      },
      "source": [
        "#Split Normalized Dataset\n",
        "print ('Train set:', Xnorm_train.shape,  y_train.shape)\n",
        "print ('Test set:', Xnorm_test.shape,  y_test.shape)"
      ],
      "execution_count": null,
      "outputs": [
        {
          "output_type": "stream",
          "text": [
            "Train set: (10617, 24) (10617,)\n",
            "Test set: (2655, 24) (2655,)\n"
          ],
          "name": "stdout"
        }
      ]
    },
    {
      "cell_type": "markdown",
      "metadata": {
        "id": "YACUDhbQDq3c"
      },
      "source": [
        "###Pembangunan Model"
      ]
    },
    {
      "cell_type": "markdown",
      "metadata": {
        "id": "CJ_x-RWCEGpd"
      },
      "source": [
        "####Mengeksekusi Algoritma"
      ]
    },
    {
      "cell_type": "markdown",
      "metadata": {
        "id": "Lxt2NlmB4_Il"
      },
      "source": [
        "#####**LOGISTIC REGRESSION (Original Dataset)**"
      ]
    },
    {
      "cell_type": "code",
      "metadata": {
        "id": "eBnoGCve5D_h",
        "colab": {
          "base_uri": "https://localhost:8080/"
        },
        "outputId": "15f683da-9d62-40d6-d00c-a080deaa9da5"
      },
      "source": [
        "LR = LogisticRegression(C=0.01, solver='liblinear').fit(X_train,y_train)\n",
        "LR"
      ],
      "execution_count": null,
      "outputs": [
        {
          "output_type": "execute_result",
          "data": {
            "text/plain": [
              "LogisticRegression(C=0.01, class_weight=None, dual=False, fit_intercept=True,\n",
              "                   intercept_scaling=1, l1_ratio=None, max_iter=100,\n",
              "                   multi_class='auto', n_jobs=None, penalty='l2',\n",
              "                   random_state=None, solver='liblinear', tol=0.0001, verbose=0,\n",
              "                   warm_start=False)"
            ]
          },
          "metadata": {
            "tags": []
          },
          "execution_count": 25
        }
      ]
    },
    {
      "cell_type": "code",
      "metadata": {
        "id": "WckzBz5b6Nu0",
        "colab": {
          "base_uri": "https://localhost:8080/"
        },
        "outputId": "0340569f-6e1f-4cf7-e679-ab6cd9ec463e"
      },
      "source": [
        "yhat = LR.predict(X_test)\n",
        "yhat"
      ],
      "execution_count": null,
      "outputs": [
        {
          "output_type": "execute_result",
          "data": {
            "text/plain": [
              "array([1, 0, 1, ..., 1, 1, 0])"
            ]
          },
          "metadata": {
            "tags": []
          },
          "execution_count": 26
        }
      ]
    },
    {
      "cell_type": "code",
      "metadata": {
        "id": "wcM2B1eg6aJW",
        "colab": {
          "base_uri": "https://localhost:8080/"
        },
        "outputId": "99ed7181-5657-4697-d54a-4d1615b682a3"
      },
      "source": [
        "yhat_prob = LR.predict_proba(X_test)\n",
        "yhat_prob"
      ],
      "execution_count": null,
      "outputs": [
        {
          "output_type": "execute_result",
          "data": {
            "text/plain": [
              "array([[0.41688565, 0.58311435],\n",
              "       [0.6285975 , 0.3714025 ],\n",
              "       [0.39540212, 0.60459788],\n",
              "       ...,\n",
              "       [0.46859544, 0.53140456],\n",
              "       [0.39427807, 0.60572193],\n",
              "       [0.68522372, 0.31477628]])"
            ]
          },
          "metadata": {
            "tags": []
          },
          "execution_count": 27
        }
      ]
    },
    {
      "cell_type": "code",
      "metadata": {
        "id": "jd_-3mFV62kf",
        "colab": {
          "base_uri": "https://localhost:8080/",
          "height": 470
        },
        "outputId": "03f8245d-49ac-45c3-804e-3df1faa9d10f"
      },
      "source": [
        "print('Accuracy:', metrics.accuracy_score(yhat,y_test))\n",
        "\n",
        "## 5-fold cross-validation \n",
        "cv_scores =cross_val_score(LR, X, y, cv=5)\n",
        "\n",
        "# Print the 5-fold cross-validation scores\n",
        "print()\n",
        "print(classification_report(y_test, yhat))\n",
        "print()\n",
        "print(\"Average 5-Fold CV Score: {}\".format(round(np.mean(cv_scores),4)), \n",
        "      \", Standard deviation: {}\".format(round(np.std(cv_scores),4)))\n",
        "\n",
        "plt.figure(figsize=(4,3))\n",
        "ConfMatrix = confusion_matrix(y_test,LR.predict(X_test))\n",
        "sns.heatmap(ConfMatrix,annot=True, cmap=\"Reds\", fmt=\"d\", \n",
        "            xticklabels = ['Non-default', 'Default'], \n",
        "            yticklabels = ['Non-default', 'Default'])\n",
        "plt.ylabel('True label')\n",
        "plt.xlabel('Predicted label')\n",
        "plt.title(\"Confusion Matrix - LR\");"
      ],
      "execution_count": null,
      "outputs": [
        {
          "output_type": "stream",
          "text": [
            "Accuracy: 0.6177024482109228\n",
            "\n",
            "              precision    recall  f1-score   support\n",
            "\n",
            "           0       0.64      0.53      0.58      1328\n",
            "           1       0.60      0.71      0.65      1327\n",
            "\n",
            "    accuracy                           0.62      2655\n",
            "   macro avg       0.62      0.62      0.61      2655\n",
            "weighted avg       0.62      0.62      0.61      2655\n",
            "\n",
            "\n",
            "Average 5-Fold CV Score: 0.6334 , Standard deviation: 0.0327\n"
          ],
          "name": "stdout"
        },
        {
          "output_type": "display_data",
          "data": {
            "image/png": "[encoded data removed]",
            "text/plain": [
              "<Figure size 288x216 with 2 Axes>"
            ]
          },
          "metadata": {
            "tags": [],
            "needs_background": "light"
          }
        }
      ]
    },
    {
      "cell_type": "markdown",
      "metadata": {
        "id": "_uyp09CDBI7N"
      },
      "source": [
        "#####**LOGISTIC REGRESSION (Normalized Dataset)**"
      ]
    },
    {
      "cell_type": "code",
      "metadata": {
        "id": "0KG5J8jeBLvm",
        "colab": {
          "base_uri": "https://localhost:8080/"
        },
        "outputId": "c9fed625-a922-4003-bf18-ab9a4488c93b"
      },
      "source": [
        "LR2 = LogisticRegression(C=0.01, solver='liblinear').fit(X_train,y_train)\n",
        "LR2"
      ],
      "execution_count": null,
      "outputs": [
        {
          "output_type": "execute_result",
          "data": {
            "text/plain": [
              "LogisticRegression(C=0.01, class_weight=None, dual=False, fit_intercept=True,\n",
              "                   intercept_scaling=1, l1_ratio=None, max_iter=100,\n",
              "                   multi_class='auto', n_jobs=None, penalty='l2',\n",
              "                   random_state=None, solver='liblinear', tol=0.0001, verbose=0,\n",
              "                   warm_start=False)"
            ]
          },
          "metadata": {
            "tags": []
          },
          "execution_count": 29
        }
      ]
    },
    {
      "cell_type": "code",
      "metadata": {
        "id": "7iLKeAnsBXLz",
        "colab": {
          "base_uri": "https://localhost:8080/"
        },
        "outputId": "0a915377-2fad-452f-e73e-6b4761c2a39a"
      },
      "source": [
        "yhat2 = LR2.predict(X_test)\n",
        "yhat2"
      ],
      "execution_count": null,
      "outputs": [
        {
          "output_type": "execute_result",
          "data": {
            "text/plain": [
              "array([1, 0, 1, ..., 1, 1, 0])"
            ]
          },
          "metadata": {
            "tags": []
          },
          "execution_count": 30
        }
      ]
    },
    {
      "cell_type": "code",
      "metadata": {
        "id": "u3s5DzD8BiGd",
        "colab": {
          "base_uri": "https://localhost:8080/"
        },
        "outputId": "ce623a4a-5aed-4a38-e9ef-a9f1d76461ff"
      },
      "source": [
        "yhat2_prob = LR2.predict_proba(Xnorm_test)\n",
        "yhat2_prob"
      ],
      "execution_count": null,
      "outputs": [
        {
          "output_type": "execute_result",
          "data": {
            "text/plain": [
              "array([[0.49019208, 0.50980792],\n",
              "       [0.49438982, 0.50561018],\n",
              "       [0.47404917, 0.52595083],\n",
              "       ...,\n",
              "       [0.49064648, 0.50935352],\n",
              "       [0.48469707, 0.51530293],\n",
              "       [0.5052614 , 0.4947386 ]])"
            ]
          },
          "metadata": {
            "tags": []
          },
          "execution_count": 31
        }
      ]
    },
    {
      "cell_type": "code",
      "metadata": {
        "id": "IPL3E--3BsVB",
        "colab": {
          "base_uri": "https://localhost:8080/",
          "height": 470
        },
        "outputId": "326400e8-3169-437b-8433-73405d7a776d"
      },
      "source": [
        "print('Accuracy:', metrics.accuracy_score(yhat2,y_test))\n",
        "\n",
        "## 5-fold cross-validation \n",
        "cv_scores =cross_val_score(LR2, Xnorm, y, cv=5)\n",
        "\n",
        "# Print the 5-fold cross-validation scores\n",
        "print()\n",
        "print(classification_report(y_test, yhat2))\n",
        "print()\n",
        "print(\"Average 5-Fold CV Score: {}\".format(round(np.mean(cv_scores),4)), \n",
        "      \", Standard deviation: {}\".format(round(np.std(cv_scores),4)))\n",
        "\n",
        "plt.figure(figsize=(4,3))\n",
        "ConfMatrix = confusion_matrix(y_test,LR2.predict(Xnorm_test))\n",
        "sns.heatmap(ConfMatrix,annot=True, cmap=\"Reds\", fmt=\"d\", \n",
        "            xticklabels = ['Non-default', 'Default'], \n",
        "            yticklabels = ['Non-default', 'Default'])\n",
        "plt.ylabel('True label')\n",
        "plt.xlabel('Predicted label')\n",
        "plt.title(\"Confusion Matrix - LR (Normalized)\");"
      ],
      "execution_count": null,
      "outputs": [
        {
          "output_type": "stream",
          "text": [
            "Accuracy: 0.6177024482109228\n",
            "\n",
            "              precision    recall  f1-score   support\n",
            "\n",
            "           0       0.64      0.53      0.58      1328\n",
            "           1       0.60      0.71      0.65      1327\n",
            "\n",
            "    accuracy                           0.62      2655\n",
            "   macro avg       0.62      0.62      0.61      2655\n",
            "weighted avg       0.62      0.62      0.61      2655\n",
            "\n",
            "\n",
            "Average 5-Fold CV Score: 0.6686 , Standard deviation: 0.012\n"
          ],
          "name": "stdout"
        },
        {
          "output_type": "display_data",
          "data": {
            "image/png": "[encoded data removed]",
            "text/plain": [
              "<Figure size 288x216 with 2 Axes>"
            ]
          },
          "metadata": {
            "tags": [],
            "needs_background": "light"
          }
        }
      ]
    },
    {
      "cell_type": "markdown",
      "metadata": {
        "id": "LVp6wM00_g2E"
      },
      "source": [
        "#####**DECISION TREE (Original Dataset)**"
      ]
    },
    {
      "cell_type": "code",
      "metadata": {
        "id": "f-Nlw5mm-AI9",
        "colab": {
          "base_uri": "https://localhost:8080/"
        },
        "outputId": "2aaf5cca-ca8a-4e3c-c63a-e3319ec854a0"
      },
      "source": [
        "# Setup the parameters and distributions to sample from: param_dist\n",
        "param_dist = {\"max_depth\": [1,2,3,4,5,6,7,8,9],\n",
        "              \"max_features\": [1,2,3,4,5,6,7,8,9],\n",
        "              \"min_samples_leaf\": [1,2,3,4,5,6,7,8,9],\n",
        "              \"criterion\": [\"gini\", \"entropy\"]}\n",
        "\n",
        "# Instantiate a Decision Tree classifier: tree\n",
        "tree = DecisionTreeClassifier()\n",
        "\n",
        "# Instantiate the RandomizedSearchCV object: tree_cv\n",
        "tree_cv = RandomizedSearchCV(tree, param_distributions=param_dist, cv=5, random_state=0)\n",
        "\n",
        "# Fit it to the data\n",
        "tree_cv.fit(X_train, y_train)\n",
        "\n",
        "# Print the tuned parameters and score\n",
        "print(\"Tuned Decision Tree Parameters: {}\".format(tree_cv.best_params_))"
      ],
      "execution_count": null,
      "outputs": [
        {
          "output_type": "stream",
          "text": [
            "Tuned Decision Tree Parameters: {'min_samples_leaf': 2, 'max_features': 9, 'max_depth': 7, 'criterion': 'gini'}\n"
          ],
          "name": "stdout"
        }
      ]
    },
    {
      "cell_type": "code",
      "metadata": {
        "id": "LcvvwT4t3Q11",
        "colab": {
          "base_uri": "https://localhost:8080/",
          "height": 470
        },
        "outputId": "2102a3f3-4ee5-4b0c-e726-60d7bcacce55"
      },
      "source": [
        "Tree = DecisionTreeClassifier(criterion= 'entropy', max_depth= 5, \n",
        "                                     max_features= 5, min_samples_leaf= 6, \n",
        "                                     random_state=0)\n",
        "Tree.fit(X_train, y_train)\n",
        "y_pred = Tree.predict(X_test)\n",
        "print('Accuracy:', metrics.accuracy_score(y_pred,y_test))\n",
        "\n",
        "## 5-fold cross-validation \n",
        "cv_scores =cross_val_score(Tree, X, y, cv=5)\n",
        "\n",
        "# Print the 5-fold cross-validation scores\n",
        "print()\n",
        "print(classification_report(y_test, y_pred))\n",
        "print()\n",
        "print(\"Average 5-Fold CV Score: {}\".format(round(np.mean(cv_scores),4)), \n",
        "      \", Standard deviation: {}\".format(round(np.std(cv_scores),4)))\n",
        "\n",
        "plt.figure(figsize=(4,3))\n",
        "ConfMatrix = confusion_matrix(y_test,Tree.predict(X_test))\n",
        "sns.heatmap(ConfMatrix,annot=True, cmap=\"Reds\", fmt=\"d\", \n",
        "            xticklabels = ['Non-default', 'Default'], \n",
        "            yticklabels = ['Non-default', 'Default'])\n",
        "plt.ylabel('True label')\n",
        "plt.xlabel('Predicted label')\n",
        "plt.title(\"Confusion Matrix - Decision Tree\");"
      ],
      "execution_count": null,
      "outputs": [
        {
          "output_type": "stream",
          "text": [
            "Accuracy: 0.6888888888888889\n",
            "\n",
            "              precision    recall  f1-score   support\n",
            "\n",
            "           0       0.66      0.79      0.72      1328\n",
            "           1       0.74      0.59      0.65      1327\n",
            "\n",
            "    accuracy                           0.69      2655\n",
            "   macro avg       0.70      0.69      0.69      2655\n",
            "weighted avg       0.70      0.69      0.69      2655\n",
            "\n",
            "\n",
            "Average 5-Fold CV Score: 0.6889 , Standard deviation: 0.0058\n"
          ],
          "name": "stdout"
        },
        {
          "output_type": "display_data",
          "data": {
            "image/png": "[encoded data removed]",
            "text/plain": [
              "<Figure size 288x216 with 2 Axes>"
            ]
          },
          "metadata": {
            "tags": [],
            "needs_background": "light"
          }
        }
      ]
    },
    {
      "cell_type": "markdown",
      "metadata": {
        "id": "IpxAWdc3CvoI"
      },
      "source": [
        "#####**DECISION TREE (Normalized Dataset)**"
      ]
    },
    {
      "cell_type": "code",
      "metadata": {
        "id": "QpB4JarNC160",
        "colab": {
          "base_uri": "https://localhost:8080/"
        },
        "outputId": "e50559c5-278d-4da0-cc40-909685b300ca"
      },
      "source": [
        "# Setup the parameters and distributions to sample from: param_dist\n",
        "param_dist = {\"max_depth\": [1,2,3,4,5,6,7,8,9],\n",
        "              \"max_features\": [1,2,3,4,5,6,7,8,9],\n",
        "              \"min_samples_leaf\": [1,2,3,4,5,6,7,8,9],\n",
        "              \"criterion\": [\"gini\", \"entropy\"]}\n",
        "\n",
        "# Instantiate a Decision Tree classifier: tree\n",
        "tree = DecisionTreeClassifier()\n",
        "\n",
        "# Instantiate the RandomizedSearchCV object: tree_cv\n",
        "tree_cv = RandomizedSearchCV(tree, param_distributions=param_dist, cv=5, random_state=0)\n",
        "\n",
        "# Fit it to the data\n",
        "tree_cv.fit(Xnorm_train, y_train)\n",
        "\n",
        "# Print the tuned parameters and score\n",
        "print(\"Tuned Decision Tree Parameters: {}\".format(tree_cv.best_params_))"
      ],
      "execution_count": null,
      "outputs": [
        {
          "output_type": "stream",
          "text": [
            "Tuned Decision Tree Parameters: {'min_samples_leaf': 2, 'max_features': 9, 'max_depth': 7, 'criterion': 'gini'}\n"
          ],
          "name": "stdout"
        }
      ]
    },
    {
      "cell_type": "code",
      "metadata": {
        "id": "2_pmn6SiDICh",
        "colab": {
          "base_uri": "https://localhost:8080/",
          "height": 470
        },
        "outputId": "89eaf43f-7bc8-43b8-8a4b-7347ae2f5119"
      },
      "source": [
        "Tree = DecisionTreeClassifier(criterion= 'gini', max_depth= 7, \n",
        "                                     max_features= 9, min_samples_leaf= 2, \n",
        "                                     random_state=0)\n",
        "Tree.fit(Xnorm_train, y_train)\n",
        "y_pred = Tree.predict(Xnorm_test)\n",
        "print('Accuracy:', metrics.accuracy_score(y_pred,y_test))\n",
        "\n",
        "## 5-fold cross-validation \n",
        "cv_scores =cross_val_score(Tree, Xnorm, y, cv=5)\n",
        "\n",
        "# Print the 5-fold cross-validation scores\n",
        "print()\n",
        "print(classification_report(y_test, y_pred))\n",
        "print()\n",
        "print(\"Average 5-Fold CV Score: {}\".format(round(np.mean(cv_scores),4)), \n",
        "      \", Standard deviation: {}\".format(round(np.std(cv_scores),4)))\n",
        "\n",
        "plt.figure(figsize=(4,3))\n",
        "ConfMatrix = confusion_matrix(y_test,Tree.predict(Xnorm_test))\n",
        "sns.heatmap(ConfMatrix,annot=True, cmap=\"Reds\", fmt=\"d\", \n",
        "            xticklabels = ['Non-default', 'Default'], \n",
        "            yticklabels = ['Non-default', 'Default'])\n",
        "plt.ylabel('True label')\n",
        "plt.xlabel('Predicted label')\n",
        "plt.title(\"Confusion Matrix - Decision Tree (Normalized)\");"
      ],
      "execution_count": null,
      "outputs": [
        {
          "output_type": "stream",
          "text": [
            "Accuracy: 0.687382297551789\n",
            "\n",
            "              precision    recall  f1-score   support\n",
            "\n",
            "           0       0.66      0.77      0.71      1328\n",
            "           1       0.73      0.60      0.66      1327\n",
            "\n",
            "    accuracy                           0.69      2655\n",
            "   macro avg       0.69      0.69      0.68      2655\n",
            "weighted avg       0.69      0.69      0.68      2655\n",
            "\n",
            "\n",
            "Average 5-Fold CV Score: 0.6884 , Standard deviation: 0.0059\n"
          ],
          "name": "stdout"
        },
        {
          "output_type": "display_data",
          "data": {
            "image/png": "[encoded data removed]",
            "text/plain": [
              "<Figure size 288x216 with 2 Axes>"
            ]
          },
          "metadata": {
            "tags": [],
            "needs_background": "light"
          }
        }
      ]
    },
    {
      "cell_type": "markdown",
      "metadata": {
        "id": "6TuwCF405Qjb"
      },
      "source": [
        "#####**RANDOM FOREST (Original Dataset)**"
      ]
    },
    {
      "cell_type": "code",
      "metadata": {
        "id": "eeUQ7LRh5UND",
        "colab": {
          "base_uri": "https://localhost:8080/"
        },
        "outputId": "8ac03ad4-b9bf-4730-e61e-ebd6d17eae0f"
      },
      "source": [
        "# Create the random grid\n",
        "param_dist = {'n_estimators': [50,100,150,200,250],\n",
        "               \"max_features\": [1,2,3,4,5,6,7,8,9],\n",
        "               'max_depth': [1,2,3,4,5,6,7,8,9],\n",
        "               \"criterion\": [\"gini\", \"entropy\"]}\n",
        "\n",
        "rf = RandomForestClassifier()\n",
        "\n",
        "rf_cv = RandomizedSearchCV(rf, param_distributions = param_dist, \n",
        "                           cv = 5, random_state=0, n_jobs = -1)\n",
        "\n",
        "rf_cv.fit(X, y)\n",
        "\n",
        "print(\"Tuned Random Forest Parameters: %s\" % (rf_cv.best_params_))"
      ],
      "execution_count": null,
      "outputs": [
        {
          "output_type": "stream",
          "text": [
            "Tuned Random Forest Parameters: {'n_estimators': 150, 'max_features': 5, 'max_depth': 6, 'criterion': 'gini'}\n"
          ],
          "name": "stdout"
        }
      ]
    },
    {
      "cell_type": "code",
      "metadata": {
        "id": "PeAgG1cV5Jto",
        "colab": {
          "base_uri": "https://localhost:8080/",
          "height": 486
        },
        "outputId": "a661fc04-50b3-443a-f4a3-e7e6c868101b"
      },
      "source": [
        "Ran = RandomForestClassifier(criterion= 'gini', max_depth= 6, \n",
        "                                     max_features= 5, n_estimators= 150, \n",
        "                                     random_state=0)\n",
        "Ran.fit(X_train, y_train)\n",
        "y_pred = Ran.predict(X_test)\n",
        "print('Accuracy:', metrics.accuracy_score(y_pred,y_test))\n",
        "\n",
        "## 5-fold cross-validation \n",
        "cv_scores =cross_val_score(Ran, X, y, cv=5)\n",
        "\n",
        "# Print the 5-fold cross-validation scores\n",
        "print()\n",
        "print(classification_report(y_test, y_pred))\n",
        "print()\n",
        "print(\"Average 5-Fold CV Score: {}\".format(round(np.mean(cv_scores),4)),\n",
        "      \", Standard deviation: {}\".format(round(np.std(cv_scores),4)))\n",
        "\n",
        "plt.figure(figsize=(4,3))\n",
        "ConfMatrix = confusion_matrix(y_test,Ran.predict(X_test))\n",
        "sns.heatmap(ConfMatrix,annot=True, cmap=\"Blues\", fmt=\"d\", \n",
        "            xticklabels = ['Non-default', 'Default'], \n",
        "            yticklabels = ['Non-default', 'Default'])\n",
        "plt.ylabel('True label')\n",
        "plt.xlabel('Predicted label')\n",
        "plt.title(\"Confusion Matrix - Random Forest\")"
      ],
      "execution_count": null,
      "outputs": [
        {
          "output_type": "stream",
          "text": [
            "Accuracy: 0.7020715630885123\n",
            "\n",
            "              precision    recall  f1-score   support\n",
            "\n",
            "           0       0.67      0.79      0.73      1328\n",
            "           1       0.74      0.62      0.67      1327\n",
            "\n",
            "    accuracy                           0.70      2655\n",
            "   macro avg       0.71      0.70      0.70      2655\n",
            "weighted avg       0.71      0.70      0.70      2655\n",
            "\n",
            "\n",
            "Average 5-Fold CV Score: 0.711 , Standard deviation: 0.016\n"
          ],
          "name": "stdout"
        },
        {
          "output_type": "execute_result",
          "data": {
            "text/plain": [
              "Text(0.5, 1.0, 'Confusion Matrix - Random Forest')"
            ]
          },
          "metadata": {
            "tags": []
          },
          "execution_count": 38
        },
        {
          "output_type": "display_data",
          "data": {
            "image/png": "[encoded data removed]",
            "text/plain": [
              "<Figure size 288x216 with 2 Axes>"
            ]
          },
          "metadata": {
            "tags": [],
            "needs_background": "light"
          }
        }
      ]
    },
    {
      "cell_type": "markdown",
      "metadata": {
        "id": "2MwffdhvDrPP"
      },
      "source": [
        "#####**RANDOM FOREST (Normalized Dataset)**"
      ]
    },
    {
      "cell_type": "code",
      "metadata": {
        "id": "_C4fGab5D1gR",
        "colab": {
          "base_uri": "https://localhost:8080/"
        },
        "outputId": "2e7f0018-2a92-4b6d-c77e-b626e51bcff8"
      },
      "source": [
        "# Create the random grid\n",
        "param_dist = {'n_estimators': [50,100,150,200,250],\n",
        "               \"max_features\": [1,2,3,4,5,6,7,8,9],\n",
        "               'max_depth': [1,2,3,4,5,6,7,8,9],\n",
        "               \"criterion\": [\"gini\", \"entropy\"]}\n",
        "\n",
        "rf = RandomForestClassifier()\n",
        "\n",
        "rf_cv = RandomizedSearchCV(rf, param_distributions = param_dist, \n",
        "                           cv = 5, random_state=0, n_jobs = -1)\n",
        "\n",
        "rf_cv.fit(Xnorm, y)\n",
        "\n",
        "print(\"Tuned Random Forest Parameters: %s\" % (rf_cv.best_params_))"
      ],
      "execution_count": null,
      "outputs": [
        {
          "output_type": "stream",
          "text": [
            "Tuned Random Forest Parameters: {'n_estimators': 150, 'max_features': 5, 'max_depth': 5, 'criterion': 'gini'}\n"
          ],
          "name": "stdout"
        }
      ]
    },
    {
      "cell_type": "code",
      "metadata": {
        "id": "X85akkuJD56x",
        "colab": {
          "base_uri": "https://localhost:8080/",
          "height": 470
        },
        "outputId": "30df1150-90d3-4c78-88d6-11188ea196a4"
      },
      "source": [
        "Ran = RandomForestClassifier(criterion= 'gini', max_depth= 1, \n",
        "                                     max_features= 6, n_estimators= 150, \n",
        "                                     random_state=0)\n",
        "Ran.fit(Xnorm_train, y_train)\n",
        "y_pred = Ran.predict(Xnorm_test)\n",
        "print('Accuracy:', metrics.accuracy_score(y_pred,y_test))\n",
        "\n",
        "## 5-fold cross-validation \n",
        "cv_scores =cross_val_score(Ran, Xnorm, y, cv=5)\n",
        "\n",
        "# Print the 5-fold cross-validation scores\n",
        "print()\n",
        "print(classification_report(y_test, y_pred))\n",
        "print()\n",
        "print(\"Average 5-Fold CV Score: {}\".format(round(np.mean(cv_scores),4)),\n",
        "      \", Standard deviation: {}\".format(round(np.std(cv_scores),4)))\n",
        "\n",
        "plt.figure(figsize=(4,3))\n",
        "ConfMatrix = confusion_matrix(y_test,Ran.predict(Xnorm_test))\n",
        "sns.heatmap(ConfMatrix,annot=True, cmap=\"Blues\", fmt=\"d\", \n",
        "            xticklabels = ['Non-default', 'Default'], \n",
        "            yticklabels = ['Non-default', 'Default'])\n",
        "plt.ylabel('True label')\n",
        "plt.xlabel('Predicted label')\n",
        "plt.title(\"Confusion Matrix - Random Forest (Normalized)\");"
      ],
      "execution_count": null,
      "outputs": [
        {
          "output_type": "stream",
          "text": [
            "Accuracy: 0.6937853107344633\n",
            "\n",
            "              precision    recall  f1-score   support\n",
            "\n",
            "           0       0.65      0.83      0.73      1328\n",
            "           1       0.76      0.56      0.65      1327\n",
            "\n",
            "    accuracy                           0.69      2655\n",
            "   macro avg       0.71      0.69      0.69      2655\n",
            "weighted avg       0.71      0.69      0.69      2655\n",
            "\n",
            "\n",
            "Average 5-Fold CV Score: 0.696 , Standard deviation: 0.0127\n"
          ],
          "name": "stdout"
        },
        {
          "output_type": "display_data",
          "data": {
            "image/png": "[encoded data removed]",
            "text/plain": [
              "<Figure size 288x216 with 2 Axes>"
            ]
          },
          "metadata": {
            "tags": [],
            "needs_background": "light"
          }
        }
      ]
    },
    {
      "cell_type": "markdown",
      "metadata": {
        "id": "8n3dYUNUFBx2"
      },
      "source": [
        "#####**K-Nearest Neighbors (Original Dataset)**"
      ]
    },
    {
      "cell_type": "code",
      "metadata": {
        "id": "lj1DLt94FH5P",
        "colab": {
          "base_uri": "https://localhost:8080/"
        },
        "outputId": "bdb27a26-4761-47a4-b6d9-e2b20671a383"
      },
      "source": [
        "#Coba-coba algoritma dengan nilai K=4\n",
        "k = 4\n",
        "#Train Model and Predict  \n",
        "neigh = KNeighborsClassifier(n_neighbors = k).fit(X_train,y_train)\n",
        "neigh"
      ],
      "execution_count": null,
      "outputs": [
        {
          "output_type": "execute_result",
          "data": {
            "text/plain": [
              "KNeighborsClassifier(algorithm='auto', leaf_size=30, metric='minkowski',\n",
              "                     metric_params=None, n_jobs=None, n_neighbors=4, p=2,\n",
              "                     weights='uniform')"
            ]
          },
          "metadata": {
            "tags": []
          },
          "execution_count": 41
        }
      ]
    },
    {
      "cell_type": "code",
      "metadata": {
        "id": "Logw0fCBFNa1",
        "colab": {
          "base_uri": "https://localhost:8080/"
        },
        "outputId": "048ad52c-a671-4fb7-9c69-0a81c0f623c8"
      },
      "source": [
        "yhatK = neigh.predict(X_test)\n",
        "yhatK[0:5]"
      ],
      "execution_count": null,
      "outputs": [
        {
          "output_type": "execute_result",
          "data": {
            "text/plain": [
              "array([1, 0, 1, 0, 0])"
            ]
          },
          "metadata": {
            "tags": []
          },
          "execution_count": 42
        }
      ]
    },
    {
      "cell_type": "code",
      "metadata": {
        "id": "ELQ6g8ASF6Pd",
        "colab": {
          "base_uri": "https://localhost:8080/"
        },
        "outputId": "983675ee-066f-4b1c-e59d-538243056d0c"
      },
      "source": [
        "print(\"Train set Accuracy: \", metrics.accuracy_score(y_train, neigh.predict(X_train)))\n",
        "print(\"Test set Accuracy: \", metrics.accuracy_score(y_test, yhatK))"
      ],
      "execution_count": null,
      "outputs": [
        {
          "output_type": "stream",
          "text": [
            "Train set Accuracy:  0.7336347367429594\n",
            "Test set Accuracy:  0.5683615819209039\n"
          ],
          "name": "stdout"
        }
      ]
    },
    {
      "cell_type": "markdown",
      "metadata": {
        "id": "naj0QcmQGI45"
      },
      "source": [
        "Mari kita mencari nilai K terbaik"
      ]
    },
    {
      "cell_type": "code",
      "metadata": {
        "id": "3XGWnGgeGL79",
        "colab": {
          "base_uri": "https://localhost:8080/"
        },
        "outputId": "730201f1-fe2a-4f55-94e3-78d43fa10594"
      },
      "source": [
        "Ks = 20\n",
        "mean_acc = np.zeros((Ks-1))\n",
        "std_acc = np.zeros((Ks-1))\n",
        "ConfustionMx = [];\n",
        "for n in range(1,Ks):\n",
        "    \n",
        "    #Train Model and Predict  \n",
        "    neigh = KNeighborsClassifier(n_neighbors = n).fit(X_train,y_train)\n",
        "    yhatK=neigh.predict(X_test)\n",
        "    mean_acc[n-1] = metrics.accuracy_score(y_test, yhatK)\n",
        "\n",
        "    \n",
        "    std_acc[n-1]=np.std(yhatK==y_test)/np.sqrt(yhatK.shape[0])\n",
        "\n",
        "mean_acc"
      ],
      "execution_count": null,
      "outputs": [
        {
          "output_type": "execute_result",
          "data": {
            "text/plain": [
              "array([0.55254237, 0.56271186, 0.57024482, 0.56836158, 0.57966102,\n",
              "       0.57740113, 0.58870056, 0.58832392, 0.58719397, 0.58870056,\n",
              "       0.58945386, 0.58945386, 0.59585687, 0.58907721, 0.6       ,\n",
              "       0.6       , 0.60301318, 0.5913371 , 0.59661017])"
            ]
          },
          "metadata": {
            "tags": []
          },
          "execution_count": 44
        }
      ]
    },
    {
      "cell_type": "code",
      "metadata": {
        "id": "pPUS10cqGWWW",
        "colab": {
          "base_uri": "https://localhost:8080/",
          "height": 288
        },
        "outputId": "7a759542-7930-411b-ddd0-887f09443c3a"
      },
      "source": [
        "plt.plot(range(1,Ks),mean_acc,'g')\n",
        "plt.fill_between(range(1,Ks),mean_acc - 1 * std_acc,mean_acc + 1 * std_acc, alpha=0.10)\n",
        "plt.legend(('Accuracy ', '+/- 3xstd'))\n",
        "plt.ylabel('Accuracy ')\n",
        "plt.xlabel('Number of Nabors (K)')\n",
        "plt.tight_layout()\n",
        "plt.show()"
      ],
      "execution_count": null,
      "outputs": [
        {
          "output_type": "display_data",
          "data": {
            "image/png": "[encoded data removed]",
            "text/plain": [
              "<Figure size 432x288 with 1 Axes>"
            ]
          },
          "metadata": {
            "tags": [],
            "needs_background": "light"
          }
        }
      ]
    },
    {
      "cell_type": "code",
      "metadata": {
        "id": "uRzRZl2nGiBB",
        "colab": {
          "base_uri": "https://localhost:8080/"
        },
        "outputId": "d79b7b3f-db7b-41a7-e900-ea36e2fb228d"
      },
      "source": [
        "print( \"The best accuracy was with\", mean_acc.max(), \"with k=\", mean_acc.argmax()+1) "
      ],
      "execution_count": null,
      "outputs": [
        {
          "output_type": "stream",
          "text": [
            "The best accuracy was with 0.6030131826741997 with k= 17\n"
          ],
          "name": "stdout"
        }
      ]
    },
    {
      "cell_type": "markdown",
      "metadata": {
        "id": "bhonmF7jGqZb"
      },
      "source": [
        "Mencoba dengan nilai K=17"
      ]
    },
    {
      "cell_type": "code",
      "metadata": {
        "id": "5bX-UtLzGs99",
        "colab": {
          "base_uri": "https://localhost:8080/"
        },
        "outputId": "1753ecba-fd45-4733-f28b-75c2aa8c5fbf"
      },
      "source": [
        "k = 17\n",
        "#Train Model and Predict  \n",
        "neigh = KNeighborsClassifier(n_neighbors = k).fit(X_train,y_train)\n",
        "neigh"
      ],
      "execution_count": null,
      "outputs": [
        {
          "output_type": "execute_result",
          "data": {
            "text/plain": [
              "KNeighborsClassifier(algorithm='auto', leaf_size=30, metric='minkowski',\n",
              "                     metric_params=None, n_jobs=None, n_neighbors=17, p=2,\n",
              "                     weights='uniform')"
            ]
          },
          "metadata": {
            "tags": []
          },
          "execution_count": 47
        }
      ]
    },
    {
      "cell_type": "code",
      "metadata": {
        "id": "6AcU1JDWG2oW",
        "colab": {
          "base_uri": "https://localhost:8080/"
        },
        "outputId": "8f8761ae-cbf7-4a4d-925b-a1ba41f7dc48"
      },
      "source": [
        "yhatK = neigh.predict(X_test)\n",
        "yhatK[0:5]"
      ],
      "execution_count": null,
      "outputs": [
        {
          "output_type": "execute_result",
          "data": {
            "text/plain": [
              "array([1, 1, 1, 1, 0])"
            ]
          },
          "metadata": {
            "tags": []
          },
          "execution_count": 48
        }
      ]
    },
    {
      "cell_type": "code",
      "metadata": {
        "id": "mS5hP2U2G5tv",
        "colab": {
          "base_uri": "https://localhost:8080/"
        },
        "outputId": "5911e444-6962-4120-a535-9e40e45edf40"
      },
      "source": [
        "print(\"Train set Accuracy: \", metrics.accuracy_score(y_train, neigh.predict(X_train)))\n",
        "print(\"Test set Accuracy: \", metrics.accuracy_score(y_test, yhatK))"
      ],
      "execution_count": null,
      "outputs": [
        {
          "output_type": "stream",
          "text": [
            "Train set Accuracy:  0.6620514269567674\n",
            "Test set Accuracy:  0.6030131826741997\n"
          ],
          "name": "stdout"
        }
      ]
    },
    {
      "cell_type": "code",
      "metadata": {
        "id": "gYlK1dW4HM_4",
        "colab": {
          "base_uri": "https://localhost:8080/",
          "height": 470
        },
        "outputId": "72ea39a3-7177-43f9-fb6b-cd88713c1dcf"
      },
      "source": [
        "print('Accuracy:', metrics.accuracy_score(yhatK,y_test))\n",
        "\n",
        "## 5-fold cross-validation \n",
        "cv_scores =cross_val_score(neigh, X, y, cv=5)\n",
        "\n",
        "# Print the 5-fold cross-validation scores\n",
        "print()\n",
        "print(classification_report(y_test, yhatK))\n",
        "print()\n",
        "print(\"Average 5-Fold CV Score: {}\".format(round(np.mean(cv_scores),4)), \n",
        "      \", Standard deviation: {}\".format(round(np.std(cv_scores),4)))\n",
        "\n",
        "plt.figure(figsize=(4,3))\n",
        "ConfMatrix = confusion_matrix(y_test,neigh.predict(X_test))\n",
        "sns.heatmap(ConfMatrix,annot=True, cmap=\"Reds\", fmt=\"d\", \n",
        "            xticklabels = ['Non-default', 'Default'], \n",
        "            yticklabels = ['Non-default', 'Default'])\n",
        "plt.ylabel('True label')\n",
        "plt.xlabel('Predicted label')\n",
        "plt.title(\"Confusion Matrix - K-Nearest Neighbor (Original)\");"
      ],
      "execution_count": null,
      "outputs": [
        {
          "output_type": "stream",
          "text": [
            "Accuracy: 0.6030131826741997\n",
            "\n",
            "              precision    recall  f1-score   support\n",
            "\n",
            "           0       0.62      0.55      0.58      1328\n",
            "           1       0.59      0.66      0.62      1327\n",
            "\n",
            "    accuracy                           0.60      2655\n",
            "   macro avg       0.60      0.60      0.60      2655\n",
            "weighted avg       0.60      0.60      0.60      2655\n",
            "\n",
            "\n",
            "Average 5-Fold CV Score: 0.6044 , Standard deviation: 0.0096\n"
          ],
          "name": "stdout"
        },
        {
          "output_type": "display_data",
          "data": {
            "image/png": "[encoded data removed]",
            "text/plain": [
              "<Figure size 288x216 with 2 Axes>"
            ]
          },
          "metadata": {
            "tags": [],
            "needs_background": "light"
          }
        }
      ]
    },
    {
      "cell_type": "markdown",
      "metadata": {
        "id": "3AkOPuUTHv-e"
      },
      "source": [
        "#####**K-Nearest Neighbor (Normalized Dataset)**"
      ]
    },
    {
      "cell_type": "code",
      "metadata": {
        "id": "OtTllQgDH1EO",
        "colab": {
          "base_uri": "https://localhost:8080/"
        },
        "outputId": "b4e46a00-d38b-415e-8d4b-1828cc6d8bdb"
      },
      "source": [
        "Ks = 20\n",
        "mean_acc = np.zeros((Ks-1))\n",
        "std_acc = np.zeros((Ks-1))\n",
        "ConfustionMx = [];\n",
        "for n in range(1,Ks):\n",
        "    \n",
        "    #Train Model and Predict  \n",
        "    neigh = KNeighborsClassifier(n_neighbors = n).fit(Xnorm_train,y_train)\n",
        "    yhatK=neigh.predict(Xnorm_test)\n",
        "    mean_acc[n-1] = metrics.accuracy_score(y_test, yhatK)\n",
        "\n",
        "    \n",
        "    std_acc[n-1]=np.std(yhatK==y_test)/np.sqrt(yhatK.shape[0])\n",
        "\n",
        "mean_acc"
      ],
      "execution_count": null,
      "outputs": [
        {
          "output_type": "execute_result",
          "data": {
            "text/plain": [
              "array([0.61544256, 0.61581921, 0.64218456, 0.65122411, 0.65725047,\n",
              "       0.6606403 , 0.65800377, 0.66629002, 0.6613936 , 0.66741996,\n",
              "       0.67118644, 0.66892655, 0.66817326, 0.67080979, 0.67382298,\n",
              "       0.67532957, 0.67419962, 0.67269303, 0.67118644])"
            ]
          },
          "metadata": {
            "tags": []
          },
          "execution_count": 51
        }
      ]
    },
    {
      "cell_type": "code",
      "metadata": {
        "id": "fDDTZ_qpIJKp",
        "colab": {
          "base_uri": "https://localhost:8080/",
          "height": 288
        },
        "outputId": "2b7c18bf-9b48-4702-f7ec-177f9fd32b64"
      },
      "source": [
        "plt.plot(range(1,Ks),mean_acc,'g')\n",
        "plt.fill_between(range(1,Ks),mean_acc - 1 * std_acc,mean_acc + 1 * std_acc, alpha=0.10)\n",
        "plt.legend(('Accuracy ', '+/- 3xstd'))\n",
        "plt.ylabel('Accuracy ')\n",
        "plt.xlabel('Number of Nabors (K)')\n",
        "plt.tight_layout()\n",
        "plt.show()"
      ],
      "execution_count": null,
      "outputs": [
        {
          "output_type": "display_data",
          "data": {
            "image/png": "[encoded data removed]",
            "text/plain": [
              "<Figure size 432x288 with 1 Axes>"
            ]
          },
          "metadata": {
            "tags": [],
            "needs_background": "light"
          }
        }
      ]
    },
    {
      "cell_type": "code",
      "metadata": {
        "id": "hga1oWlAIT4d",
        "colab": {
          "base_uri": "https://localhost:8080/"
        },
        "outputId": "bd8c99db-3b1b-4175-b52c-2177e2f4a611"
      },
      "source": [
        "print( \"The best accuracy was with\", mean_acc.max(), \"with k=\", mean_acc.argmax()+1) "
      ],
      "execution_count": null,
      "outputs": [
        {
          "output_type": "stream",
          "text": [
            "The best accuracy was with 0.6753295668549906 with k= 16\n"
          ],
          "name": "stdout"
        }
      ]
    },
    {
      "cell_type": "code",
      "metadata": {
        "id": "iCsTn4mfIddh",
        "colab": {
          "base_uri": "https://localhost:8080/"
        },
        "outputId": "610c22b9-7a9d-40d8-9037-393405f53c7f"
      },
      "source": [
        "k = 17\n",
        "#Train Model and Predict  \n",
        "neigh = KNeighborsClassifier(n_neighbors = k).fit(Xnorm_train,y_train)\n",
        "neigh"
      ],
      "execution_count": null,
      "outputs": [
        {
          "output_type": "execute_result",
          "data": {
            "text/plain": [
              "KNeighborsClassifier(algorithm='auto', leaf_size=30, metric='minkowski',\n",
              "                     metric_params=None, n_jobs=None, n_neighbors=17, p=2,\n",
              "                     weights='uniform')"
            ]
          },
          "metadata": {
            "tags": []
          },
          "execution_count": 54
        }
      ]
    },
    {
      "cell_type": "code",
      "metadata": {
        "id": "CGx5esIpIfeq",
        "colab": {
          "base_uri": "https://localhost:8080/"
        },
        "outputId": "b05594a3-5a67-467c-d510-88f46a7eabd3"
      },
      "source": [
        "yhatK = neigh.predict(Xnorm_test)\n",
        "yhatK[0:5]"
      ],
      "execution_count": null,
      "outputs": [
        {
          "output_type": "execute_result",
          "data": {
            "text/plain": [
              "array([1, 1, 1, 1, 0])"
            ]
          },
          "metadata": {
            "tags": []
          },
          "execution_count": 55
        }
      ]
    },
    {
      "cell_type": "code",
      "metadata": {
        "id": "Pwy2io9sImMg",
        "colab": {
          "base_uri": "https://localhost:8080/"
        },
        "outputId": "7e302c08-00a4-4178-f123-2080b758b8e8"
      },
      "source": [
        "print(\"Train set Accuracy: \", metrics.accuracy_score(y_train, neigh.predict(Xnorm_train)))\n",
        "print(\"Test set Accuracy: \", metrics.accuracy_score(y_test, yhatK))"
      ],
      "execution_count": null,
      "outputs": [
        {
          "output_type": "stream",
          "text": [
            "Train set Accuracy:  0.7262880286333239\n",
            "Test set Accuracy:  0.6741996233521658\n"
          ],
          "name": "stdout"
        }
      ]
    },
    {
      "cell_type": "code",
      "metadata": {
        "id": "5rUBrivhIoWe",
        "colab": {
          "base_uri": "https://localhost:8080/",
          "height": 470
        },
        "outputId": "0ef5e674-d7a0-4356-a6c3-4339205ab65c"
      },
      "source": [
        "print('Accuracy:', metrics.accuracy_score(yhatK,y_test))\n",
        "\n",
        "## 5-fold cross-validation \n",
        "cv_scores =cross_val_score(neigh, Xnorm, y, cv=5)\n",
        "\n",
        "# Print the 5-fold cross-validation scores\n",
        "print()\n",
        "print(classification_report(y_test, yhatK))\n",
        "print()\n",
        "print(\"Average 5-Fold CV Score: {}\".format(round(np.mean(cv_scores),4)), \n",
        "      \", Standard deviation: {}\".format(round(np.std(cv_scores),4)))\n",
        "\n",
        "plt.figure(figsize=(4,3))\n",
        "ConfMatrix = confusion_matrix(y_test,neigh.predict(Xnorm_test))\n",
        "sns.heatmap(ConfMatrix,annot=True, cmap=\"Blues\", fmt=\"d\", \n",
        "            xticklabels = ['Non-default', 'Default'], \n",
        "            yticklabels = ['Non-default', 'Default'])\n",
        "plt.ylabel('True label')\n",
        "plt.xlabel('Predicted label')\n",
        "plt.title(\"Confusion Matrix - K-Nearest Neighbor (Normalized)\");"
      ],
      "execution_count": null,
      "outputs": [
        {
          "output_type": "stream",
          "text": [
            "Accuracy: 0.6741996233521658\n",
            "\n",
            "              precision    recall  f1-score   support\n",
            "\n",
            "           0       0.65      0.74      0.70      1328\n",
            "           1       0.70      0.60      0.65      1327\n",
            "\n",
            "    accuracy                           0.67      2655\n",
            "   macro avg       0.68      0.67      0.67      2655\n",
            "weighted avg       0.68      0.67      0.67      2655\n",
            "\n",
            "\n",
            "Average 5-Fold CV Score: 0.6818 , Standard deviation: 0.0115\n"
          ],
          "name": "stdout"
        },
        {
          "output_type": "display_data",
          "data": {
            "image/png": "[encoded data removed]",
            "text/plain": [
              "<Figure size 288x216 with 2 Axes>"
            ]
          },
          "metadata": {
            "tags": [],
            "needs_background": "light"
          }
        }
      ]
    },
    {
      "cell_type": "markdown",
      "metadata": {
        "id": "PmwpyrpNOAae"
      },
      "source": [
        "#####**SVM (Original Dataset)**"
      ]
    },
    {
      "cell_type": "code",
      "metadata": {
        "id": "z-XEoGa_OEt_",
        "colab": {
          "base_uri": "https://localhost:8080/"
        },
        "outputId": "d9b77b3c-cc9c-4f1f-9c25-efbb80cc1dc7"
      },
      "source": [
        "from sklearn import svm\n",
        "clf = svm.SVC(kernel='rbf')\n",
        "clf.fit(X_train, y_train) "
      ],
      "execution_count": null,
      "outputs": [
        {
          "output_type": "execute_result",
          "data": {
            "text/plain": [
              "SVC(C=1.0, break_ties=False, cache_size=200, class_weight=None, coef0=0.0,\n",
              "    decision_function_shape='ovr', degree=3, gamma='scale', kernel='rbf',\n",
              "    max_iter=-1, probability=False, random_state=None, shrinking=True,\n",
              "    tol=0.001, verbose=False)"
            ]
          },
          "metadata": {
            "tags": []
          },
          "execution_count": 58
        }
      ]
    },
    {
      "cell_type": "code",
      "metadata": {
        "id": "vQPzYPzoOMcK",
        "colab": {
          "base_uri": "https://localhost:8080/"
        },
        "outputId": "e06ff5a8-7ba3-4d71-95a5-6d5df81a1868"
      },
      "source": [
        "yhatSVM = clf.predict(X_test)\n",
        "yhatSVM [0:5]"
      ],
      "execution_count": null,
      "outputs": [
        {
          "output_type": "execute_result",
          "data": {
            "text/plain": [
              "array([1, 1, 1, 1, 1])"
            ]
          },
          "metadata": {
            "tags": []
          },
          "execution_count": 59
        }
      ]
    },
    {
      "cell_type": "code",
      "metadata": {
        "id": "JXHKTGK4OSpD",
        "colab": {
          "base_uri": "https://localhost:8080/",
          "height": 470
        },
        "outputId": "2b33e17c-1bc1-4000-965e-e4f2d38ea87c"
      },
      "source": [
        "print('Accuracy:', metrics.accuracy_score(yhatSVM,y_test))\n",
        "\n",
        "## 5-fold cross-validation \n",
        "cv_scores =cross_val_score(clf, X, y, cv=5)\n",
        "\n",
        "# Print the 5-fold cross-validation scores\n",
        "print()\n",
        "print(classification_report(y_test, yhatSVM))\n",
        "print()\n",
        "print(\"Average 5-Fold CV Score: {}\".format(round(np.mean(cv_scores),4)), \n",
        "      \", Standard deviation: {}\".format(round(np.std(cv_scores),4)))\n",
        "\n",
        "plt.figure(figsize=(4,3))\n",
        "ConfMatrix = confusion_matrix(y_test,clf.predict(X_test))\n",
        "sns.heatmap(ConfMatrix,annot=True, cmap=\"Blues\", fmt=\"d\", \n",
        "            xticklabels = ['Non-default', 'Default'], \n",
        "            yticklabels = ['Non-default', 'Default'])\n",
        "plt.ylabel('True label')\n",
        "plt.xlabel('Predicted label')\n",
        "plt.title(\"Confusion Matrix - SVM (Original)\");"
      ],
      "execution_count": null,
      "outputs": [
        {
          "output_type": "stream",
          "text": [
            "Accuracy: 0.5969868173258004\n",
            "\n",
            "              precision    recall  f1-score   support\n",
            "\n",
            "           0       0.61      0.53      0.57      1328\n",
            "           1       0.59      0.66      0.62      1327\n",
            "\n",
            "    accuracy                           0.60      2655\n",
            "   macro avg       0.60      0.60      0.60      2655\n",
            "weighted avg       0.60      0.60      0.60      2655\n",
            "\n",
            "\n",
            "Average 5-Fold CV Score: 0.6061 , Standard deviation: 0.0129\n"
          ],
          "name": "stdout"
        },
        {
          "output_type": "display_data",
          "data": {
            "image/png": "[encoded data removed]",
            "text/plain": [
              "<Figure size 288x216 with 2 Axes>"
            ]
          },
          "metadata": {
            "tags": [],
            "needs_background": "light"
          }
        }
      ]
    },
    {
      "cell_type": "markdown",
      "metadata": {
        "id": "K4JdB6bfO7no"
      },
      "source": [
        "#####**SVM (Normalized Dataset)**"
      ]
    },
    {
      "cell_type": "code",
      "metadata": {
        "id": "fdYOcRlYO67h",
        "colab": {
          "base_uri": "https://localhost:8080/"
        },
        "outputId": "f771f60f-5ba7-4e7b-d8c3-76f5b8d53dd4"
      },
      "source": [
        "clf = svm.SVC(kernel='rbf')\n",
        "clf.fit(Xnorm_train, y_train) "
      ],
      "execution_count": null,
      "outputs": [
        {
          "output_type": "execute_result",
          "data": {
            "text/plain": [
              "SVC(C=1.0, break_ties=False, cache_size=200, class_weight=None, coef0=0.0,\n",
              "    decision_function_shape='ovr', degree=3, gamma='scale', kernel='rbf',\n",
              "    max_iter=-1, probability=False, random_state=None, shrinking=True,\n",
              "    tol=0.001, verbose=False)"
            ]
          },
          "metadata": {
            "tags": []
          },
          "execution_count": 61
        }
      ]
    },
    {
      "cell_type": "code",
      "metadata": {
        "id": "jG2emyShPH9d",
        "colab": {
          "base_uri": "https://localhost:8080/"
        },
        "outputId": "eab3ddbc-d687-4b77-889e-7869c0d1271e"
      },
      "source": [
        "yhatSVM = clf.predict(Xnorm_test)\n",
        "yhatSVM [0:5]"
      ],
      "execution_count": null,
      "outputs": [
        {
          "output_type": "execute_result",
          "data": {
            "text/plain": [
              "array([1, 1, 1, 1, 0])"
            ]
          },
          "metadata": {
            "tags": []
          },
          "execution_count": 62
        }
      ]
    },
    {
      "cell_type": "code",
      "metadata": {
        "id": "dzAVIiC7PLr1",
        "colab": {
          "base_uri": "https://localhost:8080/",
          "height": 470
        },
        "outputId": "291c0019-d590-47f3-db40-fa9398cc8b0c"
      },
      "source": [
        "print('Accuracy:', metrics.accuracy_score(yhatSVM,y_test))\n",
        "\n",
        "## 5-fold cross-validation \n",
        "cv_scores =cross_val_score(clf, Xnorm, y, cv=5)\n",
        "\n",
        "# Print the 5-fold cross-validation scores\n",
        "print()\n",
        "print(classification_report(y_test, yhatSVM))\n",
        "print()\n",
        "print(\"Average 5-Fold CV Score: {}\".format(round(np.mean(cv_scores),4)), \n",
        "      \", Standard deviation: {}\".format(round(np.std(cv_scores),4)))\n",
        "\n",
        "plt.figure(figsize=(4,3))\n",
        "ConfMatrix = confusion_matrix(y_test,clf.predict(Xnorm_test))\n",
        "sns.heatmap(ConfMatrix,annot=True, cmap=\"Blues\", fmt=\"d\", \n",
        "            xticklabels = ['Non-default', 'Default'], \n",
        "            yticklabels = ['Non-default', 'Default'])\n",
        "plt.ylabel('True label')\n",
        "plt.xlabel('Predicted label')\n",
        "plt.title(\"Confusion Matrix - SVM (Normalized)\");"
      ],
      "execution_count": null,
      "outputs": [
        {
          "output_type": "stream",
          "text": [
            "Accuracy: 0.7005649717514124\n",
            "\n",
            "              precision    recall  f1-score   support\n",
            "\n",
            "           0       0.66      0.83      0.73      1328\n",
            "           1       0.77      0.58      0.66      1327\n",
            "\n",
            "    accuracy                           0.70      2655\n",
            "   macro avg       0.71      0.70      0.70      2655\n",
            "weighted avg       0.71      0.70      0.70      2655\n",
            "\n",
            "\n",
            "Average 5-Fold CV Score: 0.7037 , Standard deviation: 0.0117\n"
          ],
          "name": "stdout"
        },
        {
          "output_type": "display_data",
          "data": {
            "image/png": "[encoded data removed]",
            "text/plain": [
              "<Figure size 288x216 with 2 Axes>"
            ]
          },
          "metadata": {
            "tags": [],
            "needs_background": "light"
          }
        }
      ]
    },
    {
      "cell_type": "markdown",
      "metadata": {
        "id": "zcCeuxBHEJ0u"
      },
      "source": [
        "####Menganalisa Hasil"
      ]
    },
    {
      "cell_type": "code",
      "metadata": {
        "id": "UZMw4pQfE3oW",
        "colab": {
          "base_uri": "https://localhost:8080/"
        },
        "outputId": "09b13703-f350-4730-e173-c498879bd5e1"
      },
      "source": [
        "from astropy.table import Table, Column\n",
        "data_rows = [\n",
        "              ('Logistic Regression (Original Dataset)', 0.60, 0.71, 0.65),\n",
        "              ('Logistic Regression (Normalized Dataset)', 0.60, 0.71, 0.65),\n",
        "              ('Decision Tree (Original Dataset)', 0.74, 0.59, 0.65),\n",
        "              ('Decision Tree (Normalized Dataset)', 0.73, 0.60, 0.66),\n",
        "              ('Random Forest (Original Dataset)', 0.74, 0.62, 0.67),\n",
        "              ('Random Forest (Normalized Dataset)', 0.76, 0.56, 0.65),\n",
        "              ('K Nearest Neighbor (Original Dataset)', 0.59, 0.66, 0.62),\n",
        "              ('K Nearest Neighbor (Normalized Dataset)', 0.70, 0.60, 0.65),\n",
        "              ('Support Vector Machine (Original Dataset)', 0.59, 0.66, 0.62),\n",
        "              ('Support Vector Machine (Normalized Dataset)', 0.77, 0.58, 0.66),\n",
        "            ]\n",
        "t = Table(rows=data_rows, names=('Model','Precision', 'Recall', 'F1'))\n",
        "print(t)"
      ],
      "execution_count": null,
      "outputs": [
        {
          "output_type": "stream",
          "text": [
            "                   Model                    Precision Recall  F1 \n",
            "------------------------------------------- --------- ------ ----\n",
            "     Logistic Regression (Original Dataset)       0.6   0.71 0.65\n",
            "   Logistic Regression (Normalized Dataset)       0.6   0.71 0.65\n",
            "           Decision Tree (Original Dataset)      0.74   0.59 0.65\n",
            "         Decision Tree (Normalized Dataset)      0.73    0.6 0.66\n",
            "           Random Forest (Original Dataset)      0.74   0.62 0.67\n",
            "         Random Forest (Normalized Dataset)      0.76   0.56 0.65\n",
            "      K Nearest Neighbor (Original Dataset)      0.59   0.66 0.62\n",
            "    K Nearest Neighbor (Normalized Dataset)       0.7    0.6 0.65\n",
            "  Support Vector Machine (Original Dataset)      0.59   0.66 0.62\n",
            "Support Vector Machine (Normalized Dataset)      0.77   0.58 0.66\n"
          ],
          "name": "stdout"
        }
      ]
    },
    {
      "cell_type": "markdown",
      "metadata": {
        "id": "tJMUXfomFqfd"
      },
      "source": [
        "**Melalui proses pembuatan model yang telah dilakukan menggunakan algoritma, Logistic Regression, Decision Tree dan Random Forest, K Nearest Neighbor, dan SVM dengan variasi dataset original dan normalized, diketahui bahwa model yang paling cocok digunakan adalah model yang dihasilkan Logistic Regression dengan dataset original.**\n",
        "\n",
        "**Model ini dipilih karena memiliki nilai recall yang paling tinggi yaitu 0.7. Nilai recall yang tinggi berarti bahwa model dapat meminimalisir nilai false negative. Dalam pemodelan ini, false negative yang kecil lebih disukai karena false negative berarti jumlah pengguna kartu kredit yang default namun diprediksi oleh sistem sebagai non-default.**\n",
        "\n",
        "**Jumlah False Negative yang tinggi dapat merugikan perusahaan karena perusahaan memberikan pinjaman ke pengguna yang default.**\n",
        "\n"
      ]
    },
    {
      "cell_type": "markdown",
      "metadata": {
        "id": "KsGRbu-dbtfC"
      },
      "source": [
        "###**Deployment**"
      ]
    },
    {
      "cell_type": "code",
      "metadata": {
        "id": "tS9g-Oa1WuIq"
      },
      "source": [
        "import pickle\n",
        "\n",
        "# menggunakan model LOGISTIC REGRESSION (Original Dataset)\n",
        "regressor = LogisticRegression(C=0.01, solver='liblinear').fit(X_train,y_train)\n",
        "\n",
        "pickle.dump(regressor, open('model.pkl','wb'))"
      ],
      "execution_count": null,
      "outputs": []
    },
    {
      "cell_type": "code",
      "metadata": {
        "id": "y-gchj5mdDMo",
        "colab": {
          "base_uri": "https://localhost:8080/"
        },
        "outputId": "9acc47f2-e0e4-4124-83d7-9e52fb3466d0"
      },
      "source": [
        "model = pickle.load(open('/content/model.pkl','rb'))\n",
        "prediction = model.predict(X_test[1:2])\n",
        "print(\"data test :\")\n",
        "print(X_test[1:2].columns)\n",
        "print()\n",
        "print(X_test[1:2])\n",
        "\n",
        "print(\"\\n prediction :\", prediction)"
      ],
      "execution_count": null,
      "outputs": [
        {
          "output_type": "stream",
          "text": [
            "data test :\n",
            "Index(['LIMIT_BAL', 'SEX', 'EDUCATION', 'MARRIAGE', 'AGE', 'PAY_1', 'PAY_2',\n",
            "       'PAY_3', 'PAY_4', 'PAY_5', 'PAY_6', 'BILL_AMT1', 'BILL_AMT2',\n",
            "       'BILL_AMT3', 'BILL_AMT4', 'BILL_AMT5', 'BILL_AMT6', 'PAY_AMT1',\n",
            "       'PAY_AMT2', 'PAY_AMT3', 'PAY_AMT4', 'PAY_AMT5', 'PAY_AMT6',\n",
            "       'SEX_MARRIAGE'],\n",
            "      dtype='object')\n",
            "\n",
            "       LIMIT_BAL  SEX  EDUCATION  ...  PAY_AMT5  PAY_AMT6  SEX_MARRIAGE\n",
            "23048   440000.0    2          2  ...   11200.0   12000.0             4\n",
            "\n",
            "[1 rows x 24 columns]\n",
            "\n",
            " prediction : [0]\n"
          ],
          "name": "stdout"
        }
      ]
    }
  ]
}